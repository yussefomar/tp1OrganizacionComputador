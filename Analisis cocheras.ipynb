{
 "cells": [
  {
   "cell_type": "code",
   "execution_count": 120,
   "metadata": {},
   "outputs": [
    {
     "data": {
      "text/html": [
       "<style>.container { width:90% !important; }</style>"
      ],
      "text/plain": [
       "<IPython.core.display.HTML object>"
      ]
     },
     "metadata": {},
     "output_type": "display_data"
    }
   ],
   "source": [
    "from IPython.core.display import display, HTML\n",
    "display(HTML(\"<style>.container { width:90% !important; }</style>\"))\n",
    "%matplotlib inline\n",
    "\n",
    "plt.style.use('default') # haciendo los graficos un poco mas bonitos xD\n",
    "plt.rcParams['figure.figsize'] = (15, 5)"
   ]
  },
  {
   "cell_type": "code",
   "execution_count": 91,
   "metadata": {
    "collapsed": true
   },
   "outputs": [],
   "source": [
    "import pandas as pd\n",
    "import matplotlib.pyplot as plt\n",
    "import numpy as np\n",
    "import seaborn as sns"
   ]
  },
  {
   "cell_type": "code",
   "execution_count": 2,
   "metadata": {},
   "outputs": [],
   "source": [
    "df = pd.read_csv(\"datosCabaYGBA.csv\", low_memory = False)"
   ]
  },
  {
   "cell_type": "code",
   "execution_count": 3,
   "metadata": {
    "collapsed": true
   },
   "outputs": [],
   "source": [
    "df.drop(\"Unnamed: 0\",axis=1,inplace=True)"
   ]
  },
  {
   "cell_type": "code",
   "execution_count": 4,
   "metadata": {
    "collapsed": true
   },
   "outputs": [],
   "source": [
    "def filtrarCapitalYGBA(serie):\n",
    "    deseados = [\"Capital Federal\"]\n",
    "    booleans = []\n",
    "    for item in serie:\n",
    "        if item.split(\"|\")[2] in deseados:\n",
    "            booleans.append(True)\n",
    "        else:\n",
    "            booleans.append(False)\n",
    "    return booleans"
   ]
  },
  {
   "cell_type": "code",
   "execution_count": 5,
   "metadata": {
    "collapsed": true
   },
   "outputs": [],
   "source": [
    "df = df[filtrarCapitalYGBA(df['place_with_parent_names'])]"
   ]
  },
  {
   "cell_type": "markdown",
   "metadata": {},
   "source": [
    "# Como se comporta el precio de las propiedades de los barrios mas caros de CABA en relacion a si tienen cochera o no?"
   ]
  },
  {
   "cell_type": "code",
   "execution_count": 36,
   "metadata": {},
   "outputs": [],
   "source": [
    "masCaros = [\"Recoleta\",\"Palermo\",\"Belgrano\",\"Nuñez\",\"Colegiales\"]\n",
    "masBaratos = [\"Boca\",\"Constitución\",\"Parque Avellaneda\",\"Floresta\"]"
   ]
  },
  {
   "cell_type": "code",
   "execution_count": 37,
   "metadata": {},
   "outputs": [],
   "source": [
    "df = df.dropna(subset=['price_aprox_usd'])\n",
    "df = df[df[\"price_aprox_usd\"] > 0]"
   ]
  },
  {
   "cell_type": "code",
   "execution_count": 62,
   "metadata": {},
   "outputs": [],
   "source": [
    "#Tupla barrio:(precio usd promedio con cochera, precio usd promedio sin cochera, cantidad con cochera, cantidad sin cochera)\n",
    "results={}\n",
    "for barrio in masCaros:\n",
    "    df_barrio = df[df[\"place_name\"] == barrio]\n",
    "    descContieneCochera = df_barrio.description.str.contains(\"cochera\").fillna(False)\n",
    "    titContieneCochera = df_barrio.title.str.contains(\"cochera\").fillna(False)\n",
    "    propsConCochera = df_barrio[ descContieneCochera | titContieneCochera]\n",
    "    propsSinCochera = df_barrio[~titContieneCochera & ~descContieneCochera]\n",
    "    promedioPrecioConCochera = propsConCochera[\"price_aprox_usd\"].mean()\n",
    "    promedioPrecioSinCochera = propsSinCochera[\"price_aprox_usd\"].mean()\n",
    "    results[barrio] = (promedioPrecioConCochera, promedioPrecioSinCochera)"
   ]
  },
  {
   "cell_type": "code",
   "execution_count": null,
   "metadata": {
    "collapsed": true
   },
   "outputs": [],
   "source": []
  },
  {
   "cell_type": "code",
   "execution_count": 74,
   "metadata": {},
   "outputs": [],
   "source": [
    "nombres = []\n",
    "promediosConCochera = []\n",
    "promediosSinCochera = []\n",
    "for k in results:\n",
    "    nombres.append(k)\n",
    "    promediosConCochera.append(int(results[k][0]))\n",
    "    promediosSinCochera.append(int(results[k][1]))"
   ]
  },
  {
   "cell_type": "code",
   "execution_count": 77,
   "metadata": {
    "collapsed": true
   },
   "outputs": [],
   "source": [
    "datos = {\"nombres\":nombres,\"promConCochera\":promediosConCochera,\"promediosSinCochera\":promediosSinCochera}"
   ]
  },
  {
   "cell_type": "code",
   "execution_count": 85,
   "metadata": {},
   "outputs": [
    {
     "data": {
      "text/plain": [
       "Index([u'nombres', u'promConCochera', u'promediosSinCochera'], dtype='object')"
      ]
     },
     "execution_count": 85,
     "metadata": {},
     "output_type": "execute_result"
    }
   ],
   "source": [
    "dfres.columns"
   ]
  },
  {
   "cell_type": "code",
   "execution_count": 81,
   "metadata": {},
   "outputs": [],
   "source": [
    "dfres = pd.DataFrame(datos)"
   ]
  },
  {
   "cell_type": "code",
   "execution_count": 114,
   "metadata": {},
   "outputs": [
    {
     "data": {
      "text/html": [
       "<div>\n",
       "<style>\n",
       "    .dataframe thead tr:only-child th {\n",
       "        text-align: right;\n",
       "    }\n",
       "\n",
       "    .dataframe thead th {\n",
       "        text-align: left;\n",
       "    }\n",
       "\n",
       "    .dataframe tbody tr th {\n",
       "        vertical-align: top;\n",
       "    }\n",
       "</style>\n",
       "<table border=\"1\" class=\"dataframe\">\n",
       "  <thead>\n",
       "    <tr style=\"text-align: right;\">\n",
       "      <th></th>\n",
       "      <th>nombres</th>\n",
       "      <th>promConCochera</th>\n",
       "      <th>promediosSinCochera</th>\n",
       "    </tr>\n",
       "  </thead>\n",
       "  <tbody>\n",
       "    <tr>\n",
       "      <th>0</th>\n",
       "      <td>Nuñez</td>\n",
       "      <td>428549</td>\n",
       "      <td>222258</td>\n",
       "    </tr>\n",
       "    <tr>\n",
       "      <th>1</th>\n",
       "      <td>Palermo</td>\n",
       "      <td>434614</td>\n",
       "      <td>265277</td>\n",
       "    </tr>\n",
       "    <tr>\n",
       "      <th>2</th>\n",
       "      <td>Colegiales</td>\n",
       "      <td>251436</td>\n",
       "      <td>171713</td>\n",
       "    </tr>\n",
       "    <tr>\n",
       "      <th>3</th>\n",
       "      <td>Recoleta</td>\n",
       "      <td>614550</td>\n",
       "      <td>348612</td>\n",
       "    </tr>\n",
       "    <tr>\n",
       "      <th>4</th>\n",
       "      <td>Belgrano</td>\n",
       "      <td>482300</td>\n",
       "      <td>273290</td>\n",
       "    </tr>\n",
       "  </tbody>\n",
       "</table>\n",
       "</div>"
      ],
      "text/plain": [
       "      nombres  promConCochera  promediosSinCochera\n",
       "0       Nuñez          428549               222258\n",
       "1     Palermo          434614               265277\n",
       "2  Colegiales          251436               171713\n",
       "3    Recoleta          614550               348612\n",
       "4    Belgrano          482300               273290"
      ]
     },
     "execution_count": 114,
     "metadata": {},
     "output_type": "execute_result"
    }
   ],
   "source": [
    "dfres.head(10)"
   ]
  },
  {
   "cell_type": "code",
   "execution_count": 123,
   "metadata": {
    "scrolled": true
   },
   "outputs": [
    {
     "data": {
      "text/plain": [
       "[<matplotlib.text.Text at 0x7f1cf689ae90>,\n",
       " <matplotlib.text.Text at 0x7f1cf6889e10>,\n",
       " <matplotlib.text.Text at 0x7f1cf68945d0>,\n",
       " <matplotlib.text.Text at 0x7f1cf6891110>,\n",
       " <matplotlib.text.Text at 0x7f1cf6891790>]"
      ]
     },
     "execution_count": 123,
     "metadata": {},
     "output_type": "execute_result"
    },
    {
     "data": {
      "image/png": "[encoded data removed]",
      "text/plain": [
       "<matplotlib.figure.Figure at 0x7f1cf6998750>"
      ]
     },
     "metadata": {},
     "output_type": "display_data"
    }
   ],
   "source": [
    "ax = dfres.plot(kind=\"bar\")\n",
    "ax.set_xticklabels([\"Nunez\",\"Palermo\",\"Colegiales\",\"Recoleta\",\"Belgrano\"])"
   ]
  },
  {
   "cell_type": "code",
   "execution_count": null,
   "metadata": {
    "collapsed": true
   },
   "outputs": [],
   "source": []
  }
 ],
 "metadata": {
  "kernelspec": {
   "display_name": "Python 2",
   "language": "python",
   "name": "python2"
  },
  "language_info": {
   "codemirror_mode": {
    "name": "ipython",
    "version": 2
   },
   "file_extension": ".py",
   "mimetype": "text/x-python",
   "name": "python",
   "nbconvert_exporter": "python",
   "pygments_lexer": "ipython2",
   "version": "2.7.13"
  }
 },
 "nbformat": 4,
 "nbformat_minor": 2
}
