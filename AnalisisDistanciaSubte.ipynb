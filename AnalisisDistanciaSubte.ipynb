{
 "cells": [
  {
   "cell_type": "code",
   "execution_count": 24,
   "metadata": {
    "collapsed": true
   },
   "outputs": [],
   "source": [
    "import pandas as pd\n",
    "import numpy as np\n",
    "import matplotlib.pyplot as plt"
   ]
  },
  {
   "cell_type": "code",
   "execution_count": 25,
   "metadata": {},
   "outputs": [],
   "source": [
    "df = pd.read_csv(\"datosCabaYGBA\",low_memory = False)"
   ]
  },
  {
   "cell_type": "code",
   "execution_count": 26,
   "metadata": {
    "collapsed": true
   },
   "outputs": [],
   "source": [
    "df.drop(\"Unnamed: 0\",axis=1,inplace=True)"
   ]
  },
  {
   "cell_type": "markdown",
   "metadata": {},
   "source": [
    "# Analizamos la evolucion del precio de una propiedad alrededor de la estacion de subte Las Heras, a traves del tiempo, tener en cuenta que se inauguró en diciembre de 2015"
   ]
  },
  {
   "cell_type": "code",
   "execution_count": 27,
   "metadata": {
    "collapsed": true
   },
   "outputs": [],
   "source": [
    "def propsEnZona(serie, zona):\n",
    "    booleans = list()\n",
    "    for item in serie:\n",
    "        if item.split(\"|\")[2] == zona:\n",
    "            booleans.append(True)\n",
    "        else:\n",
    "            booleans.append(False)\n",
    "    return booleans"
   ]
  },
  {
   "cell_type": "code",
   "execution_count": 28,
   "metadata": {
    "collapsed": true
   },
   "outputs": [],
   "source": [
    "\n",
    "propsCapital = df[propsEnZona(df.place_with_parent_names,\"Capital Federal\")]"
   ]
  },
  {
   "cell_type": "code",
   "execution_count": 29,
   "metadata": {
    "collapsed": true
   },
   "outputs": [],
   "source": [
    "propsCapital = propsCapital.dropna(subset = [\"lat-lon\"])"
   ]
  },
  {
   "cell_type": "code",
   "execution_count": 30,
   "metadata": {
    "collapsed": true
   },
   "outputs": [],
   "source": [
    "propsCapital = propsCapital[[\"property_type\",\"created_on\",\\\n",
    "                             \"lat-lon\",\"place_name\",\"price_aprox_usd\",\\\n",
    "                             \"price_usd_per_m2\",\"surface_total_in_m2\"]]"
   ]
  },
  {
   "cell_type": "code",
   "execution_count": 31,
   "metadata": {
    "collapsed": true
   },
   "outputs": [],
   "source": [
    "propsRecoleta = propsCapital[propsCapital[\"place_name\"] == \"Recoleta\"]"
   ]
  },
  {
   "cell_type": "markdown",
   "metadata": {},
   "source": [
    "# Me quedo con propiedades con superficie total dentro de un determinado rango"
   ]
  },
  {
   "cell_type": "code",
   "execution_count": 32,
   "metadata": {
    "collapsed": true
   },
   "outputs": [],
   "source": [
    "propsRecoleta = propsRecoleta[(propsRecoleta[\"surface_total_in_m2\"] >= 50)\\\n",
    "                              & (propsRecoleta[\"surface_total_in_m2\"] <= 100)]"
   ]
  },
  {
   "cell_type": "code",
   "execution_count": 33,
   "metadata": {
    "collapsed": true,
    "scrolled": true
   },
   "outputs": [],
   "source": [
    "propsRecoleta = propsRecoleta.dropna(subset=[\"price_aprox_usd\"])"
   ]
  },
  {
   "cell_type": "code",
   "execution_count": 140,
   "metadata": {
    "collapsed": true
   },
   "outputs": [],
   "source": [
    "from utils_analisis import latLonToInt,calcular_distancia\n",
    "estacionLH = (-34.588203, -58.398268)\n"
   ]
  },
  {
   "cell_type": "code",
   "execution_count": 519,
   "metadata": {
    "collapsed": true
   },
   "outputs": [],
   "source": [
    "propsRecoleta[\"DistEstacionLH\"] = propsRecoleta.apply(lambda row: calcular_distancia(latLonToInt(row[\"lat-lon\"]),estacionLH),axis=1)"
   ]
  },
  {
   "cell_type": "code",
   "execution_count": 36,
   "metadata": {
    "collapsed": true
   },
   "outputs": [],
   "source": [
    "#Me quedo con las propiedades que estan e n unradio de 600 metros de la stacion LH\n",
    "cercanas = propsRecoleta[propsRecoleta[\"DistEstacionLH\"] <= 0.6 ]"
   ]
  },
  {
   "cell_type": "code",
   "execution_count": null,
   "metadata": {},
   "outputs": [],
   "source": [
    "cercanas[\"YearMonthCreation\"] = cercanas.apply(lambda row:\\\n",
    "                                \"-\".join(row[\"created_on\"].split(\"-\")[:2]),axis=1)"
   ]
  },
  {
   "cell_type": "code",
   "execution_count": 38,
   "metadata": {
    "collapsed": true
   },
   "outputs": [],
   "source": [
    "grouped = cercanas.loc[:,['YearMonthCreation','price_aprox_usd']].groupby('YearMonthCreation').\\\n",
    "    agg([np.mean,np.size])"
   ]
  },
  {
   "cell_type": "code",
   "execution_count": 39,
   "metadata": {
    "collapsed": true
   },
   "outputs": [],
   "source": [
    "grouped = grouped.loc[grouped[('price_aprox_usd','size')]>5,:]"
   ]
  },
  {
   "cell_type": "code",
   "execution_count": 40,
   "metadata": {
    "collapsed": true
   },
   "outputs": [],
   "source": [
    "grouped = grouped['price_aprox_usd'].drop('size',axis = 1)"
   ]
  },
  {
   "cell_type": "code",
   "execution_count": 41,
   "metadata": {
    "collapsed": true
   },
   "outputs": [],
   "source": [
    "grouped.index.rename(\"Año - mes\",inplace= True)\n",
    "grouped = grouped[\"mean\"].rename(\"Promedio del precio en dolares\")"
   ]
  },
  {
   "cell_type": "code",
   "execution_count": 42,
   "metadata": {},
   "outputs": [
    {
     "data": {
      "text/plain": [
       "<matplotlib.axes._subplots.AxesSubplot at 0x7fbc9e49ff10>"
      ]
     },
     "execution_count": 42,
     "metadata": {},
     "output_type": "execute_result"
    }
   ],
   "source": [
    "grouped.plot(linewidth=2,figsize=(12,8),legend=True)\n"
   ]
  },
  {
   "cell_type": "code",
   "execution_count": null,
   "metadata": {},
   "outputs": [],
   "source": [
    "plt.xticks( xrange(len(grouped.index)), grouped.index)"
   ]
  },
  {
   "cell_type": "code",
   "execution_count": 44,
   "metadata": {},
   "outputs": [
    {
     "data": {
      "image/png": "[encoded data removed]",
      "text/plain": [
       "<matplotlib.figure.Figure at 0x7fbcd4049d50>"
      ]
     },
     "metadata": {},
     "output_type": "display_data"
    }
   ],
   "source": [
    "plt.show()"
   ]
  },
  {
   "cell_type": "markdown",
   "metadata": {},
   "source": [
    "# Aunque no obtuvimos datos alredeor de la fecha deseada (2015-12) se observa como el precio promedio de una propiedad de estas caracteristicas aumentó y no decayó su precio a valores anteriores de la aparicion del subte. A partir de esto podriamos inclinarnos a estudiar como afecta la distancia al subte el precio de una propiedad"
   ]
  },
  {
   "cell_type": "code",
   "execution_count": 528,
   "metadata": {
    "collapsed": true
   },
   "outputs": [],
   "source": [
    "#Coordenadas estacion Congreso y Juramento (Linea D)\n",
    "congreso = (-34.556033, -58.462183)\n",
    "juramento = (-34.562541, -58.456528)"
   ]
  },
  {
   "cell_type": "code",
   "execution_count": 516,
   "metadata": {
    "collapsed": true
   },
   "outputs": [],
   "source": [
    "propsBelgrano = df[df[\"place_with_parent_names\"].str.contains(\"Belgrano\")]"
   ]
  },
  {
   "cell_type": "markdown",
   "metadata": {},
   "source": [
    "# Estudio como varia el precio cuando me alejo de la estacion congreso (Pero siempre estar mas alejado de juramento)"
   ]
  },
  {
   "cell_type": "code",
   "execution_count": 525,
   "metadata": {
    "collapsed": true
   },
   "outputs": [],
   "source": [
    "propsBelgrano = propsBelgrano.dropna(subset=[\"lat-lon\"])"
   ]
  },
  {
   "cell_type": "code",
   "execution_count": 526,
   "metadata": {},
   "outputs": [
    {
     "name": "stderr",
     "output_type": "stream",
     "text": [
      "/home/tomas/anaconda2/lib/python2.7/site-packages/ipykernel_launcher.py:1: SettingWithCopyWarning: \n",
      "A value is trying to be set on a copy of a slice from a DataFrame.\n",
      "Try using .loc[row_indexer,col_indexer] = value instead\n",
      "\n",
      "See the caveats in the documentation: http://pandas.pydata.org/pandas-docs/stable/indexing.html#indexing-view-versus-copy\n",
      "  \"\"\"Entry point for launching an IPython kernel.\n"
     ]
    }
   ],
   "source": [
    "propsBelgrano[\"distCongreso\"] = propsBelgrano.apply(lambda row: calcular_distancia(latLonToInt(row[\"lat-lon\"]),congreso),axis=1)\n"
   ]
  },
  {
   "cell_type": "code",
   "execution_count": 529,
   "metadata": {},
   "outputs": [],
   "source": [
    "propsBelgrano[\"distJuramento\"] = propsBelgrano.apply(lambda row: calcular_distancia(latLonToInt(row[\"lat-lon\"]),juramento),axis=1)\n"
   ]
  },
  {
   "cell_type": "code",
   "execution_count": 530,
   "metadata": {
    "collapsed": true
   },
   "outputs": [],
   "source": [
    "cercanasCongreso = propsBelgrano[(propsBelgrano[\"distCongreso\"] <= 1) & \n",
    "                                propsBelgrano[\"distJuramento\"] > propsBelgrano[\"distCongreso\"]]"
   ]
  },
  {
   "cell_type": "code",
   "execution_count": 533,
   "metadata": {},
   "outputs": [],
   "source": [
    "deptosCercanos = cercanasCongreso[cercanasCongreso[\"property_type\"] == \"apartment\"]"
   ]
  },
  {
   "cell_type": "code",
   "execution_count": 535,
   "metadata": {},
   "outputs": [],
   "source": [
    "deptosCercanos = deptosCercanos[deptosCercanos[\"price_aprox_usd\"] > 0]"
   ]
  },
  {
   "cell_type": "code",
   "execution_count": 539,
   "metadata": {},
   "outputs": [],
   "source": [
    "deptosCercanos = deptosCercanos[deptosCercanos[\"floor\"] < 11]"
   ]
  },
  {
   "cell_type": "code",
   "execution_count": 542,
   "metadata": {},
   "outputs": [],
   "source": [
    "deptosCercanos = deptosCercanos[deptosCercanos[\"rooms\"] <= 4]"
   ]
  },
  {
   "cell_type": "code",
   "execution_count": 543,
   "metadata": {},
   "outputs": [
    {
     "data": {
      "text/html": [
       "<div>\n",
       "<style>\n",
       "    .dataframe thead tr:only-child th {\n",
       "        text-align: right;\n",
       "    }\n",
       "\n",
       "    .dataframe thead th {\n",
       "        text-align: left;\n",
       "    }\n",
       "\n",
       "    .dataframe tbody tr th {\n",
       "        vertical-align: top;\n",
       "    }\n",
       "</style>\n",
       "<table border=\"1\" class=\"dataframe\">\n",
       "  <thead>\n",
       "    <tr style=\"text-align: right;\">\n",
       "      <th></th>\n",
       "      <th>floor</th>\n",
       "      <th>geonames_id</th>\n",
       "      <th>price_aprox_usd</th>\n",
       "      <th>price_usd_per_m2</th>\n",
       "      <th>rooms</th>\n",
       "      <th>surface_covered_in_m2</th>\n",
       "      <th>surface_total_in_m2</th>\n",
       "      <th>distCongreso</th>\n",
       "      <th>distJuramento</th>\n",
       "    </tr>\n",
       "  </thead>\n",
       "  <tbody>\n",
       "    <tr>\n",
       "      <th>floor</th>\n",
       "      <td>1.000000</td>\n",
       "      <td>NaN</td>\n",
       "      <td>0.081054</td>\n",
       "      <td>0.183758</td>\n",
       "      <td>0.040258</td>\n",
       "      <td>-0.029492</td>\n",
       "      <td>0.071281</td>\n",
       "      <td>-0.038921</td>\n",
       "      <td>-0.025945</td>\n",
       "    </tr>\n",
       "    <tr>\n",
       "      <th>geonames_id</th>\n",
       "      <td>NaN</td>\n",
       "      <td>NaN</td>\n",
       "      <td>NaN</td>\n",
       "      <td>NaN</td>\n",
       "      <td>NaN</td>\n",
       "      <td>NaN</td>\n",
       "      <td>NaN</td>\n",
       "      <td>NaN</td>\n",
       "      <td>NaN</td>\n",
       "    </tr>\n",
       "    <tr>\n",
       "      <th>price_aprox_usd</th>\n",
       "      <td>0.081054</td>\n",
       "      <td>NaN</td>\n",
       "      <td>1.000000</td>\n",
       "      <td>0.113296</td>\n",
       "      <td>0.704837</td>\n",
       "      <td>0.061688</td>\n",
       "      <td>0.833484</td>\n",
       "      <td>0.023945</td>\n",
       "      <td>-0.110594</td>\n",
       "    </tr>\n",
       "    <tr>\n",
       "      <th>price_usd_per_m2</th>\n",
       "      <td>0.183758</td>\n",
       "      <td>NaN</td>\n",
       "      <td>0.113296</td>\n",
       "      <td>1.000000</td>\n",
       "      <td>-0.149607</td>\n",
       "      <td>-0.311978</td>\n",
       "      <td>-0.357091</td>\n",
       "      <td>0.101738</td>\n",
       "      <td>0.206876</td>\n",
       "    </tr>\n",
       "    <tr>\n",
       "      <th>rooms</th>\n",
       "      <td>0.040258</td>\n",
       "      <td>NaN</td>\n",
       "      <td>0.704837</td>\n",
       "      <td>-0.149607</td>\n",
       "      <td>1.000000</td>\n",
       "      <td>0.021330</td>\n",
       "      <td>0.641860</td>\n",
       "      <td>0.000856</td>\n",
       "      <td>-0.206179</td>\n",
       "    </tr>\n",
       "    <tr>\n",
       "      <th>surface_covered_in_m2</th>\n",
       "      <td>-0.029492</td>\n",
       "      <td>NaN</td>\n",
       "      <td>0.061688</td>\n",
       "      <td>-0.311978</td>\n",
       "      <td>0.021330</td>\n",
       "      <td>1.000000</td>\n",
       "      <td>0.973810</td>\n",
       "      <td>0.070237</td>\n",
       "      <td>-0.060264</td>\n",
       "    </tr>\n",
       "    <tr>\n",
       "      <th>surface_total_in_m2</th>\n",
       "      <td>0.071281</td>\n",
       "      <td>NaN</td>\n",
       "      <td>0.833484</td>\n",
       "      <td>-0.357091</td>\n",
       "      <td>0.641860</td>\n",
       "      <td>0.973810</td>\n",
       "      <td>1.000000</td>\n",
       "      <td>-0.009267</td>\n",
       "      <td>-0.187086</td>\n",
       "    </tr>\n",
       "    <tr>\n",
       "      <th>distCongreso</th>\n",
       "      <td>-0.038921</td>\n",
       "      <td>NaN</td>\n",
       "      <td>0.023945</td>\n",
       "      <td>0.101738</td>\n",
       "      <td>0.000856</td>\n",
       "      <td>0.070237</td>\n",
       "      <td>-0.009267</td>\n",
       "      <td>1.000000</td>\n",
       "      <td>-0.153868</td>\n",
       "    </tr>\n",
       "    <tr>\n",
       "      <th>distJuramento</th>\n",
       "      <td>-0.025945</td>\n",
       "      <td>NaN</td>\n",
       "      <td>-0.110594</td>\n",
       "      <td>0.206876</td>\n",
       "      <td>-0.206179</td>\n",
       "      <td>-0.060264</td>\n",
       "      <td>-0.187086</td>\n",
       "      <td>-0.153868</td>\n",
       "      <td>1.000000</td>\n",
       "    </tr>\n",
       "  </tbody>\n",
       "</table>\n",
       "</div>"
      ],
      "text/plain": [
       "                          floor  geonames_id  price_aprox_usd  \\\n",
       "floor                  1.000000          NaN         0.081054   \n",
       "geonames_id                 NaN          NaN              NaN   \n",
       "price_aprox_usd        0.081054          NaN         1.000000   \n",
       "price_usd_per_m2       0.183758          NaN         0.113296   \n",
       "rooms                  0.040258          NaN         0.704837   \n",
       "surface_covered_in_m2 -0.029492          NaN         0.061688   \n",
       "surface_total_in_m2    0.071281          NaN         0.833484   \n",
       "distCongreso          -0.038921          NaN         0.023945   \n",
       "distJuramento         -0.025945          NaN        -0.110594   \n",
       "\n",
       "                       price_usd_per_m2     rooms  surface_covered_in_m2  \\\n",
       "floor                          0.183758  0.040258              -0.029492   \n",
       "geonames_id                         NaN       NaN                    NaN   \n",
       "price_aprox_usd                0.113296  0.704837               0.061688   \n",
       "price_usd_per_m2               1.000000 -0.149607              -0.311978   \n",
       "rooms                         -0.149607  1.000000               0.021330   \n",
       "surface_covered_in_m2         -0.311978  0.021330               1.000000   \n",
       "surface_total_in_m2           -0.357091  0.641860               0.973810   \n",
       "distCongreso                   0.101738  0.000856               0.070237   \n",
       "distJuramento                  0.206876 -0.206179              -0.060264   \n",
       "\n",
       "                       surface_total_in_m2  distCongreso  distJuramento  \n",
       "floor                             0.071281     -0.038921      -0.025945  \n",
       "geonames_id                            NaN           NaN            NaN  \n",
       "price_aprox_usd                   0.833484      0.023945      -0.110594  \n",
       "price_usd_per_m2                 -0.357091      0.101738       0.206876  \n",
       "rooms                             0.641860      0.000856      -0.206179  \n",
       "surface_covered_in_m2             0.973810      0.070237      -0.060264  \n",
       "surface_total_in_m2               1.000000     -0.009267      -0.187086  \n",
       "distCongreso                     -0.009267      1.000000      -0.153868  \n",
       "distJuramento                    -0.187086     -0.153868       1.000000  "
      ]
     },
     "execution_count": 543,
     "metadata": {},
     "output_type": "execute_result"
    }
   ],
   "source": [
    "deptosCercanos.corr()"
   ]
  },
  {
   "cell_type": "markdown",
   "metadata": {},
   "source": [
    "# Segun los resultados, si me alejo de congreso, mas valdra la propiedad, y si me acerco a juramento, mas valdra. Tiene sentido al ser juramento una zona mas centrica"
   ]
  },
  {
   "cell_type": "code",
   "execution_count": null,
   "metadata": {
    "collapsed": true
   },
   "outputs": [],
   "source": []
  }
 ],
 "metadata": {
  "kernelspec": {
   "display_name": "Python 2",
   "language": "python",
   "name": "python2"
  },
  "language_info": {
   "codemirror_mode": {
    "name": "ipython",
    "version": 2
   },
   "file_extension": ".py",
   "mimetype": "text/x-python",
   "name": "python",
   "nbconvert_exporter": "python",
   "pygments_lexer": "ipython2",
   "version": "2.7.13"
  }
 },
 "nbformat": 4,
 "nbformat_minor": 2
}
