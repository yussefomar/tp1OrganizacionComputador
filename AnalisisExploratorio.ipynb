{
 "cells": [
  {
   "cell_type": "code",
   "execution_count": 4,
   "metadata": {
    "collapsed": true
   },
   "outputs": [],
   "source": [
    "# magic function para hacer que los graficos de matplotlib se renderizen en el notebook.\n",
    "%matplotlib inline\n",
    "\n",
    "import datetime as datetime\n",
    "import pandas as pd\n",
    "import numpy as np\n",
    "import matplotlib.pyplot as plt\n",
    "import os\n",
    "import csv\n",
    "\n",
    "plt.style.use('default') # haciendo los graficos un poco mas bonitos xD\n",
    "plt.rcParams['figure.figsize'] = (15, 5)\n"
   ]
  },
  {
   "cell_type": "code",
   "execution_count": 5,
   "metadata": {},
   "outputs": [],
   "source": [
    "filesProperati = os.listdir(\"datos/properati\")"
   ]
  },
  {
   "cell_type": "code",
   "execution_count": 6,
   "metadata": {},
   "outputs": [
    {
     "name": "stdout",
     "output_type": "stream",
     "text": [
      "Error con el archivo: properati-AR-2015-06-01-properties-sell.csv\n",
      "Error con el archivo: properati-AR-2015-08-01-properties-sell.csv\n",
      "Error con el archivo: properati-AR-2015-04-01-properties-sell.csv\n",
      "Error con el archivo: properati-AR-2015-07-01-properties-sell.csv\n"
     ]
    }
   ],
   "source": [
    "dataFrames = []\n",
    "for file_name in filesProperati:\n",
    "    try:\n",
    "        newDataFrame = pd.read_csv(\"datos/properati/\"+file_name)\n",
    "        dataFrames.append(newDataFrame)\n",
    "    except:\n",
    "        #Ver causa de este error (ParserError)\n",
    "        #Error con el archivo: properati-AR-2015-06-01-properties-sell.csv\n",
    "        #Error con el archivo: properati-AR-2015-08-01-properties-sell.csv\n",
    "        #Error con el archivo: properati-AR-2015-04-01-properties-sell.csv\n",
    "        #Error con el archivo: properati-AR-2015-07-01-properties-sell.csv\n",
    "        print \"Error con el archivo: \"+file_name"
   ]
  },
  {
   "cell_type": "code",
   "execution_count": 7,
   "metadata": {},
   "outputs": [
    {
     "name": "stdout",
     "output_type": "stream",
     "text": [
      "['surface_total_in_m2', 'description', 'title', 'surface_covered_in_m2', 'price_per_m2', 'country_name', 'id', 'state_name']\n"
     ]
    }
   ],
   "source": [
    "#Hay algunos archivos de properati que tienen menos informacion, ver que hacer con ellos\n",
    "masCols = []\n",
    "for df in dataFrames:\n",
    "    if (len(df.columns) == 27):\n",
    "        masCols = df.columns\n",
    "menosCols = []\n",
    "for df in dataFrames:\n",
    "    if (len(df.columns) == 20):\n",
    "        menosCols = df.columns\n",
    "diferencias = list(set(masCols) - set(menosCols))\n",
    "#No tienen la superficie total en m2, asi que para estos archivos, \n",
    "#si no tenemos info del precio en alguna columna price, descartamos las filas\n",
    "print diferencias\n"
   ]
  },
  {
   "cell_type": "code",
   "execution_count": 8,
   "metadata": {},
   "outputs": [],
   "source": [
    "#¿que tipos de propiedades tenemos?\n",
    "tiposDePropiedades = []\n",
    "for df in dataFrames:\n",
    "    try:\n",
    "        propiedades = df[[\"property_type\"]]\n",
    "        tiposDePropiedades.append(propiedades)\n",
    "    except KeyError:\n",
    "        #No se por que me esta abriendo archivos que no son de properati, por eso este except\n",
    "        pass"
   ]
  },
  {
   "cell_type": "code",
   "execution_count": 9,
   "metadata": {
    "collapsed": true
   },
   "outputs": [],
   "source": [
    "tiposDePropiedades = pd.concat(tiposDePropiedades)"
   ]
  },
  {
   "cell_type": "code",
   "execution_count": 10,
   "metadata": {},
   "outputs": [
    {
     "data": {
      "text/plain": [
       "apartment    1222108\n",
       "house         718179\n",
       "PH            121444\n",
       "store          37229\n",
       "Name: property_type, dtype: int64"
      ]
     },
     "execution_count": 10,
     "metadata": {},
     "output_type": "execute_result"
    }
   ],
   "source": [
    "tiposDePropiedades[\"property_type\"].value_counts()"
   ]
  },
  {
   "cell_type": "code",
   "execution_count": 39,
   "metadata": {},
   "outputs": [
    {
     "data": {
      "text/plain": [
       "['currency', 'operation', 'place_name', 'rooms', 'floor']"
      ]
     },
     "execution_count": 39,
     "metadata": {},
     "output_type": "execute_result"
    }
   ],
   "source": [
    "#Algo que se podria analizar es ver que tipo de propiedad tiene mayor precio promedio en los\n",
    "#ultimos años. \n",
    "\n",
    "#hago lo mismo que hice para property_type con todas las columnas para ver si hay que limpiar\n",
    "#algo\n",
    "columnasEnComun = list(set.intersection(set(masCols),set(menosCols)))\n",
    "descartar = [\"properati_url\", \"image_thumbnail\",\"lat\",\n",
    "             \"expenses\",\"price\",\"price_usd_per_m2\",\"price_aprox_usd\",\n",
    "             \"lon\", \"geonames_id\", \"place_with_parent_names\", \"lat-lon\", \"created_on\",\n",
    "            \"price_aprox_local_currency\", \"property_type\"]\n",
    "colsVerificar = list(set(columnasEnComun).difference(set(descartar)))\n",
    "colsVerificar\n"
   ]
  },
  {
   "cell_type": "code",
   "execution_count": 36,
   "metadata": {
    "collapsed": true
   },
   "outputs": [],
   "source": [
    "a = []\n",
    "for feature in colsVerificar:\n",
    "    featuresDfs= []\n",
    "    for df in dataFrames:\n",
    "        try:\n",
    "            featureAct = df[[feature]]\n",
    "            featuresDfs.append(featureAct)\n",
    "        except KeyError:\n",
    "            #No se por que me esta abriendo archivos que no son de properati, por eso este except\n",
    "            pass\n",
    "    a.append(featuresDfs)"
   ]
  },
  {
   "cell_type": "code",
   "execution_count": 49,
   "metadata": {},
   "outputs": [
    {
     "name": "stdout",
     "output_type": "stream",
     "text": [
      "\n",
      "**********NEXT FEATURE************\n",
      "\n",
      "USD    1464198\n",
      "ARS     228610\n",
      "BRL        162\n",
      "PEN          2\n",
      "UYU          1\n",
      "Name: currency, dtype: int64\n",
      "\n",
      "**********NEXT FEATURE************\n",
      "\n",
      "sell    2098960\n",
      "Name: operation, dtype: int64\n",
      "\n",
      "**********NEXT FEATURE************\n",
      "\n",
      "Mar del Plata                      181204\n",
      "Capital Federal                     96959\n",
      "Rosario                             68420\n",
      "Córdoba                             63819\n",
      "Pilar                               57593\n",
      "Tigre                               55979\n",
      "Belgrano                            49534\n",
      "Palermo                             43659\n",
      "Ramos Mejía                         41526\n",
      "Nordelta                            40819\n",
      "La Plata                            38420\n",
      "Caballito                           30557\n",
      "Santa Fe                            30452\n",
      "Ituzaingó                           28462\n",
      "Morón                               27130\n",
      "Olivos                              26284\n",
      "Barrio Norte                        24037\n",
      "Villa Urquiza                       24029\n",
      "San Isidro                          23074\n",
      "Flores                              22586\n",
      "Pinamar                             22535\n",
      "Vicente López                       21219\n",
      "Villa Crespo                        20077\n",
      "Recoleta                            19543\n",
      "San Miguel                          19474\n",
      "Almagro                             18288\n",
      "Nuñez                               17344\n",
      "San Fernando                        17207\n",
      "Haedo                               16975\n",
      "General San Martín                  16827\n",
      "                                    ...  \n",
      "Estación Sola                           1\n",
      "Pedro Molina                            1\n",
      "Puan                                    1\n",
      "Fighiera                                1\n",
      "Uspallata                               1\n",
      "El Viejo Vivero                         1\n",
      "Villa Pehuenia                          1\n",
      "Perú                                    1\n",
      "Florentino Ameghino                     1\n",
      "Barrio Cerrado \"San Jorge\"              1\n",
      "Puerto Pirámides                        1\n",
      "Marull                                  1\n",
      "Villa Brown                             1\n",
      "Trenel                                  1\n",
      "Zenón Pereyra                           1\n",
      "Armstrong                               1\n",
      "Ayacucho                                1\n",
      "Barrio  Pirvado Los Naranjos            1\n",
      "Coronel Moldes                          1\n",
      "Arroyo Ceibal                           1\n",
      "María Grande                            1\n",
      "Barrio Cerrado \"Las Araucarias\"         1\n",
      "Barrio Cerrado \"Villa Rosa\"             1\n",
      "Arequito                                1\n",
      "San Carlos Norte                        1\n",
      "Barrio Cerrado \"Las Liebres\"            1\n",
      "Azara                                   1\n",
      "La Colina Golf & Polo                   1\n",
      "Huanqueros                              1\n",
      "La Esperanza Club de Campo              1\n",
      "Name: place_name, Length: 1571, dtype: int64\n",
      "\n",
      "**********NEXT FEATURE************\n",
      "\n",
      "2.0     397834\n",
      "3.0     362080\n",
      "1.0     263258\n",
      "4.0     202550\n",
      "5.0      78075\n",
      "6.0      24533\n",
      "7.0      10403\n",
      "8.0       4130\n",
      "0.0       2193\n",
      "10.0      1812\n",
      "9.0       1620\n",
      "12.0       352\n",
      "11.0       314\n",
      "14.0       210\n",
      "13.0       133\n",
      "15.0       133\n",
      "20.0        72\n",
      "16.0        46\n",
      "32.0        37\n",
      "17.0        31\n",
      "18.0        25\n",
      "30.0        21\n",
      "21.0        18\n",
      "19.0        13\n",
      "22.0        12\n",
      "28.0        11\n",
      "25.0        10\n",
      "35.0        10\n",
      "23.0         9\n",
      "39.0         5\n",
      "34.0         2\n",
      "33.0         1\n",
      "24.0         1\n",
      "27.0         1\n",
      "29.0         1\n",
      "31.0         1\n",
      "Name: rooms, dtype: int64\n",
      "\n",
      "**********NEXT FEATURE************\n",
      "\n",
      "1.0       73453\n",
      "2.0       52990\n",
      "3.0       34987\n",
      "4.0       25549\n",
      "5.0       20917\n",
      "6.0       18774\n",
      "7.0       15429\n",
      "8.0       13280\n",
      "9.0        9737\n",
      "10.0       6053\n",
      "11.0       5391\n",
      "12.0       4544\n",
      "13.0       3343\n",
      "14.0       2347\n",
      "15.0       1719\n",
      "17.0       1262\n",
      "16.0       1153\n",
      "18.0        777\n",
      "19.0        559\n",
      "20.0        440\n",
      "21.0        345\n",
      "22.0        303\n",
      "23.0        279\n",
      "24.0        267\n",
      "26.0        243\n",
      "25.0        217\n",
      "0.0         174\n",
      "28.0        142\n",
      "101.0       131\n",
      "302.0       119\n",
      "          ...  \n",
      "2704.0        1\n",
      "2509.0        1\n",
      "1291.0        1\n",
      "812.0         1\n",
      "816.0         1\n",
      "817.0         1\n",
      "818.0         1\n",
      "819.0         1\n",
      "820.0         1\n",
      "1109.0        1\n",
      "1204.0        1\n",
      "1205.0        1\n",
      "1206.0        1\n",
      "1210.0        1\n",
      "1275.0        1\n",
      "1305.0        1\n",
      "2455.0        1\n",
      "1379.0        1\n",
      "1401.0        1\n",
      "1403.0        1\n",
      "1420.0        1\n",
      "1450.0        1\n",
      "1501.0        1\n",
      "1512.0        1\n",
      "339.0         1\n",
      "1602.0        1\n",
      "1606.0        1\n",
      "2003.0        1\n",
      "2352.0        1\n",
      "256.0         1\n",
      "Name: floor, Length: 480, dtype: int64\n"
     ]
    }
   ],
   "source": [
    "concatenados = []\n",
    "for featureAVerificar in a:\n",
    "    concatenados.append(pd.concat(featureAVerificar))\n",
    "for x in range(0,len(colsVerificar)):\n",
    "    print \"\\n**********NEXT FEATURE************\\n\"\n",
    "    print concatenados[x][colsVerificar[x]].value_counts()"
   ]
  },
  {
   "cell_type": "code",
   "execution_count": null,
   "metadata": {
    "collapsed": true
   },
   "outputs": [],
   "source": [
    "#ver de descartar esto (propiedades con #pisos irreales?)"
   ]
  }
 ],
 "metadata": {
  "kernelspec": {
   "display_name": "Python 2",
   "language": "python",
   "name": "python2"
  },
  "language_info": {
   "codemirror_mode": {
    "name": "ipython",
    "version": 2
   },
   "file_extension": ".py",
   "mimetype": "text/x-python",
   "name": "python",
   "nbconvert_exporter": "python",
   "pygments_lexer": "ipython2",
   "version": "2.7.13"
  }
 },
 "nbformat": 4,
 "nbformat_minor": 2
}
