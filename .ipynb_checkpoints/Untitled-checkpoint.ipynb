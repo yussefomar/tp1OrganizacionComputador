{
 "cells": [
  {
   "cell_type": "code",
   "execution_count": 39,
   "metadata": {
    "collapsed": true
   },
   "outputs": [],
   "source": [
    "# magic function para hacer que los graficos de matplotlib se renderizen en el notebook.\n",
    "%matplotlib inline\n",
    "\n",
    "import datetime as datetime\n",
    "import pandas as pd\n",
    "import numpy as np\n",
    "import matplotlib.pyplot as plt\n",
    "import os\n",
    "import csv\n",
    "\n",
    "plt.style.use('default') # haciendo los graficos un poco mas bonitos xD\n",
    "plt.rcParams['figure.figsize'] = (15, 5)\n"
   ]
  },
  {
   "cell_type": "code",
   "execution_count": 40,
   "metadata": {},
   "outputs": [],
   "source": [
    "filesProperati = os.listdir(\"datos/properati\")"
   ]
  },
  {
   "cell_type": "code",
   "execution_count": 43,
   "metadata": {},
   "outputs": [
    {
     "name": "stdout",
     "output_type": "stream",
     "text": [
      "Error con el archivo: properati-AR-2015-06-01-properties-sell.csv\n",
      "Error con el archivo: properati-AR-2015-08-01-properties-sell.csv\n",
      "Error con el archivo: properati-AR-2015-04-01-properties-sell.csv\n",
      "Error con el archivo: properati-AR-2015-07-01-properties-sell.csv\n"
     ]
    }
   ],
   "source": [
    "dataFrames = []\n",
    "for file_name in filesProperati:\n",
    "    try:\n",
    "        newDataFrame = pd.read_csv(\"datos/properati/\"+file_name)\n",
    "        dataFrames.append(newDataFrame)\n",
    "    except:\n",
    "        #Ver causa de este error (ParserError)\n",
    "        #Error con el archivo: properati-AR-2015-06-01-properties-sell.csv\n",
    "        #Error con el archivo: properati-AR-2015-08-01-properties-sell.csv\n",
    "        #Error con el archivo: properati-AR-2015-04-01-properties-sell.csv\n",
    "        #Error con el archivo: properati-AR-2015-07-01-properties-sell.csv\n",
    "        print \"Error con el archivo: \"+file_name"
   ]
  },
  {
   "cell_type": "code",
   "execution_count": 54,
   "metadata": {},
   "outputs": [
    {
     "name": "stdout",
     "output_type": "stream",
     "text": [
      "['surface_total_in_m2', 'description', 'title', 'surface_covered_in_m2', 'price_per_m2', 'country_name', 'id', 'state_name']\n"
     ]
    }
   ],
   "source": [
    "#Hay algunos archivos de properati que tienen menos informacion, ver que hacer con ellos\n",
    "masCols = []\n",
    "for df in dataFrames:\n",
    "    if (len(df.columns) == 27):\n",
    "        masCols = df.columns\n",
    "menosCols = []\n",
    "for df in dataFrames:\n",
    "    if (len(df.columns) == 20):\n",
    "        menosCols = df.columns\n",
    "diferencias = list(set(masCols) - set(menosCols))\n",
    "#No tienen la superficie total en m2, asi que para estos archivos, \n",
    "#si no tenemos info del precio en alguna columna price, descartamos las filas\n",
    "print diferencias\n"
   ]
  },
  {
   "cell_type": "code",
   "execution_count": 61,
   "metadata": {},
   "outputs": [
    {
     "name": "stdout",
     "output_type": "stream",
     "text": [
      "34\n"
     ]
    }
   ],
   "source": [
    "#¿que tipos de propiedades tenemos?\n",
    "tiposDePropiedades = []\n",
    "for df in dataFrames:\n",
    "    try:\n",
    "        propiedades = df[[\"property_type\"]]\n",
    "        tiposDePropiedades.append(propiedades)\n",
    "    except KeyError:\n",
    "        #No se por que me esta abriendo archivos que no son de properati, por eso este except\n",
    "        pass"
   ]
  },
  {
   "cell_type": "code",
   "execution_count": 63,
   "metadata": {},
   "outputs": [],
   "source": [
    "tiposDePropiedades = pd.concat(tiposDePropiedades)"
   ]
  },
  {
   "cell_type": "code",
   "execution_count": 74,
   "metadata": {},
   "outputs": [
    {
     "data": {
      "text/plain": [
       "apartment    1222108\n",
       "house         718179\n",
       "PH            121444\n",
       "store          37229\n",
       "Name: property_type, dtype: int64"
      ]
     },
     "execution_count": 74,
     "metadata": {},
     "output_type": "execute_result"
    }
   ],
   "source": [
    "tiposDePropiedades[\"property_type\"].value_counts()"
   ]
  },
  {
   "cell_type": "code",
   "execution_count": null,
   "metadata": {
    "collapsed": true
   },
   "outputs": [],
   "source": [
    "#Algo que se podria analizar es ver que tipo de propiedad tiene mayor precio promedio en los\n",
    "#ultimos años. "
   ]
  }
 ],
 "metadata": {
  "kernelspec": {
   "display_name": "Python 2",
   "language": "python",
   "name": "python2"
  },
  "language_info": {
   "codemirror_mode": {
    "name": "ipython",
    "version": 2
   },
   "file_extension": ".py",
   "mimetype": "text/x-python",
   "name": "python",
   "nbconvert_exporter": "python",
   "pygments_lexer": "ipython2",
   "version": "2.7.13"
  }
 },
 "nbformat": 4,
 "nbformat_minor": 2
}
