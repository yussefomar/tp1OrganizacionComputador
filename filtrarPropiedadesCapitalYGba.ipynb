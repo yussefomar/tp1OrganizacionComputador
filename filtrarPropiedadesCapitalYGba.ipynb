{
 "cells": [
  {
   "cell_type": "code",
   "execution_count": 1,
   "metadata": {
    "collapsed": true
   },
   "outputs": [],
   "source": [
    "import pandas as pd\n",
    "import os"
   ]
  },
  {
   "cell_type": "code",
   "execution_count": 2,
   "metadata": {
    "collapsed": true
   },
   "outputs": [],
   "source": [
    "#en datos/properati deben estar todos los archivos de ventas provistos por properati\n",
    "filesProperati = filter( lambda f: not f.startswith('.'), os.listdir(\"datos/properati\"))\n"
   ]
  },
  {
   "cell_type": "code",
   "execution_count": 74,
   "metadata": {
    "collapsed": true
   },
   "outputs": [],
   "source": [
    "\n",
    "dataFrames = []\n",
    "for file_name in filesProperati:\n",
    "    newDataFrame = pd.read_csv(\"datos/properati/\"+file_name)\n",
    "    dataFrames.append(newDataFrame)\n",
    "       "
   ]
  },
  {
   "cell_type": "code",
   "execution_count": 75,
   "metadata": {},
   "outputs": [],
   "source": [
    "for df in dataFrames:\n",
    "    parentNames = df['place_with_parent_names']\n",
    "    if parentNames.isnull().sum() != 0:\n",
    "        print \"Hay nulos\""
   ]
  },
  {
   "cell_type": "code",
   "execution_count": 76,
   "metadata": {},
   "outputs": [],
   "source": [
    "###No hay nulos, uso esta columna para quedarme con las propiedades de GBA y CAPITAL\n",
    "###Primero miro que valores tengo luego del segundo pipe en los valores de la columna\n",
    "###place_with_parent_names\n",
    "frecuencias = {}\n",
    "for df in dataFrames:\n",
    "    parentNames = df['place_with_parent_names']\n",
    "    for padres in parentNames:\n",
    "        zona = padres.split(\"|\")[2]\n",
    "        if zona not in frecuencias:\n",
    "            frecuencias[zona] = 1\n",
    "        else:\n",
    "            frecuencias[zona]+=1\n"
   ]
  },
  {
   "cell_type": "code",
   "execution_count": 77,
   "metadata": {},
   "outputs": [
    {
     "name": "stdout",
     "output_type": "stream",
     "text": [
      "San Juan 568\n",
      "Córdoba 99129\n",
      "Chaco 1868\n",
      "Mendoza 8315\n",
      "Colonia 205\n",
      "Chubut 1194\n",
      "Capital Federal 656229\n",
      "San Luis 6929\n",
      "Tucumán 3968\n",
      "Misiones 11127\n",
      "Tierra Del Fuego 890\n",
      "Bs.As. G.B.A. Zona Oeste 304893\n",
      "Corrientes 1436\n",
      "Formosa 341\n",
      "Maldonado 6101\n",
      "Río Negro 17661\n",
      "Santa Cruz 242\n",
      "New York 41\n",
      "California 29\n",
      "Montevideo 3281\n",
      "Neuquén 11194\n",
      "La Pampa 5134\n",
      "Buenos Aires Costa Atlántica 301094\n",
      "Buenos Aires Interior 62686\n",
      "Miami 987\n",
      "Florida 1187\n",
      "Bs.As. G.B.A. Zona Sur 167017\n",
      "Santa Catarina 268\n",
      "Santiago Del Estero 282\n",
      "Rocha 85\n",
      "Jujuy 502\n",
      "Punta del Este 15209\n",
      "Santa Fe 117984\n",
      "Salta 7621\n",
      "La Rioja 333\n",
      "Entre Ríos 16068\n",
      "Bs.As. G.B.A. Zona Norte 541028\n",
      "Catamarca 886\n"
     ]
    }
   ],
   "source": [
    "for zona in frecuencias: \n",
    "    print zona,frecuencias[zona]"
   ]
  },
  {
   "cell_type": "code",
   "execution_count": 95,
   "metadata": {},
   "outputs": [],
   "source": [
    "#Interesan: Bs.As. G.B.A. Zona Norte, Bs.As. G.B.A. Zona Sur, Buenos Aires Interior\n",
    "#Buenos Aires Costa Atlántica, Bs.As. G.B.A. Zona Oeste, Capital Federal\n",
    "#Ver si de alguna manera se pueden recuperar los que no tienen sentido (miami, california,..\n",
    "def filtrarCapitalYGBA(serie):\n",
    "    deseados = [\"Bs.As. G.B.A. Zona Norte\", \"Bs.As. G.B.A. Zona Sur\", \"Buenos Aires Interior\",\n",
    "\"Buenos Aires Costa Atlántica\", \"Bs.As. G.B.A. Zona Oeste\", \"Capital Federal\"]\n",
    "    booleans = []\n",
    "    for item in serie:\n",
    "        if item.split(\"|\")[2] in deseados:\n",
    "            booleans.append(True)\n",
    "        else:\n",
    "            booleans.append(False)\n",
    "    return booleans"
   ]
  },
  {
   "cell_type": "code",
   "execution_count": 101,
   "metadata": {},
   "outputs": [],
   "source": [
    "#result = result[(result['var']>0.25) | (result['var']<-0.25)]\n",
    "filtrados =[]\n",
    "for df in dataFrames:\n",
    "    \n",
    "    df = df[filtrarCapitalYGBA(df['place_with_parent_names'])]\n",
    "    filtrados.append(df)"
   ]
  },
  {
   "cell_type": "code",
   "execution_count": 102,
   "metadata": {},
   "outputs": [],
   "source": [
    "###Por las dudas chequeo que ahora las frecuencias sean las mismas \n",
    "##y solo queden las zonas que interesan\n",
    "frecuencias = {}\n",
    "for df in filtrados:\n",
    "    parentNames = df['place_with_parent_names']\n",
    "    for padres in parentNames:\n",
    "        zona = padres.split(\"|\")[2]\n",
    "        if zona not in frecuencias:\n",
    "            frecuencias[zona] = 1\n",
    "        else:\n",
    "            frecuencias[zona]+=1"
   ]
  },
  {
   "cell_type": "code",
   "execution_count": 103,
   "metadata": {},
   "outputs": [
    {
     "name": "stdout",
     "output_type": "stream",
     "text": [
      "Buenos Aires Costa Atlántica 301094\n",
      "Buenos Aires Interior 62686\n",
      "Capital Federal 656229\n",
      "Bs.As. G.B.A. Zona Sur 167017\n",
      "Bs.As. G.B.A. Zona Norte 541028\n",
      "Bs.As. G.B.A. Zona Oeste 304893\n"
     ]
    }
   ],
   "source": [
    "for key in frecuencias:\n",
    "    print key, frecuencias[key]"
   ]
  },
  {
   "cell_type": "code",
   "execution_count": 105,
   "metadata": {},
   "outputs": [],
   "source": [
    "unificacion = pd.concat(filtrados, axis=0, ignore_index=True)"
   ]
  },
  {
   "cell_type": "code",
   "execution_count": 106,
   "metadata": {},
   "outputs": [
    {
     "data": {
      "text/plain": [
       "Index([u'country_name', u'created_on', u'currency', u'description',\n",
       "       u'expenses', u'extra', u'floor', u'geonames_id', u'id',\n",
       "       u'image_thumbnail', u'lat', u'lat-lon', u'lon', u'operation',\n",
       "       u'place_name', u'place_with_parent_names', u'price',\n",
       "       u'price_aprox_local_currency', u'price_aprox_usd', u'price_per_m2',\n",
       "       u'price_usd_per_m2', u'properati_url', u'property_type', u'rooms',\n",
       "       u'state_name', u'surface_covered_in_m2', u'surface_in_m2',\n",
       "       u'surface_total_in_m2', u'title'],\n",
       "      dtype='object')"
      ]
     },
     "execution_count": 106,
     "metadata": {},
     "output_type": "execute_result"
    }
   ],
   "source": [
    "len(unificacion.columns"
   ]
  },
  {
   "cell_type": "code",
   "execution_count": null,
   "metadata": {
    "collapsed": true
   },
   "outputs": [],
   "source": []
  }
 ],
 "metadata": {
  "kernelspec": {
   "display_name": "Python 2",
   "language": "python",
   "name": "python2"
  },
  "language_info": {
   "codemirror_mode": {
    "name": "ipython",
    "version": 2
   },
   "file_extension": ".py",
   "mimetype": "text/x-python",
   "name": "python",
   "nbconvert_exporter": "python",
   "pygments_lexer": "ipython2",
   "version": "2.7.13"
  }
 },
 "nbformat": 4,
 "nbformat_minor": 2
}
