{
 "cells": [
  {
   "cell_type": "code",
   "execution_count": null,
   "metadata": {
    "collapsed": true
   },
   "outputs": [],
   "source": [
    "import pandas as pd\n",
    "import numpy as np\n",
    "import os"
   ]
  },
  {
   "cell_type": "markdown",
   "metadata": {},
   "source": [
    "## En datos/properati deben estar todos los archivos de ventas provistos por properati"
   ]
  },
  {
   "cell_type": "code",
   "execution_count": null,
   "metadata": {
    "collapsed": true
   },
   "outputs": [],
   "source": [
    "filesProperati = filter( lambda f: not f.startswith('.'), os.listdir(\"datos/properati\"))"
   ]
  },
  {
   "cell_type": "code",
   "execution_count": null,
   "metadata": {},
   "outputs": [],
   "source": [
    "dataFrames = []\n",
    "asociados = dict()\n",
    "#Este diccionario es para luego eliminar segun fechas erroneas\n",
    "for file_name in filesProperati:\n",
    "    \n",
    "    newDataFrame = pd.read_csv(\"datos/properati/\"+file_name)\n",
    "    asociados[file_name] = newDataFrame\n",
    "    dataFrames.append(newDataFrame)\n",
    "       "
   ]
  },
  {
   "cell_type": "code",
   "execution_count": null,
   "metadata": {},
   "outputs": [],
   "source": [
    "nulosStateName = 0\n",
    "nulosPlaceWParentNames = 0\n",
    "noCuentaConStateName = 0\n",
    "noCuentaConPlaceWParentNames = 0\n",
    "for df in dataFrames:\n",
    "    try:\n",
    "        nulosStateName += df.state_name.isnull().sum()\n",
    "    except:\n",
    "        noCuentaConStateName += 1\n",
    "    try:\n",
    "        nulosPlaceWParentNames += df.place_with_parent_names.isnull().sum()\n",
    "    except:\n",
    "        noCuentaConPlaceWParentNames += 1\n",
    "print \"Cantidad de registros con valor nulo en state_name: \"+str(nulosStateName)\n",
    "print \"Cantidad de registros con valor nulo en place_w_parent_names: \"+str(nulosPlaceWParentNames)\n",
    "print \"Cantidad de archivos que no cuentan con la columna state_name: \"+str(noCuentaConStateName)\n",
    "print \"Cantidad de archivos que no cuentan con la columna place_w_parent_names: \"+str(noCuentaConPlaceWParentNames)"
   ]
  },
  {
   "cell_type": "markdown",
   "metadata": {
    "collapsed": true
   },
   "source": [
    "## Dado los resultados, para quedarnos solo con las propiedades de Capital Federal y GBA tendremos que utilizar la columna 'place_with_parent_names'"
   ]
  },
  {
   "cell_type": "code",
   "execution_count": null,
   "metadata": {
    "collapsed": true
   },
   "outputs": [],
   "source": [
    "frecuencias = {}\n",
    "for df in dataFrames:\n",
    "    parentNames = df['place_with_parent_names']\n",
    "    for padres in parentNames:\n",
    "        zona = padres.split(\"|\")[2]\n",
    "        if zona not in frecuencias:\n",
    "            frecuencias[zona] = 1\n",
    "        else:\n",
    "            frecuencias[zona]+=1"
   ]
  },
  {
   "cell_type": "code",
   "execution_count": null,
   "metadata": {},
   "outputs": [],
   "source": [
    "for zona in frecuencias: \n",
    "    print zona,frecuencias[zona]"
   ]
  },
  {
   "cell_type": "markdown",
   "metadata": {
    "collapsed": true
   },
   "source": [
    "## Interesan: Bs.As. G.B.A. Zona Norte, Bs.As. G.B.A. Zona Sur, Bs.As. G.B.A. Zona Oeste, Capital Federal\n"
   ]
  },
  {
   "cell_type": "code",
   "execution_count": null,
   "metadata": {
    "collapsed": true
   },
   "outputs": [],
   "source": [
    "def filtrarCapitalYGBA(serie):\n",
    "    deseados = [\"Bs.As. G.B.A. Zona Norte\", \"Bs.As. G.B.A. Zona Sur\", \"Bs.As. G.B.A. Zona Oeste\", \"Capital Federal\"]\n",
    "    booleans = []\n",
    "    for item in serie:\n",
    "        if item.split(\"|\")[2] in deseados:\n",
    "            booleans.append(True)\n",
    "        else:\n",
    "            booleans.append(False)\n",
    "    return booleans"
   ]
  },
  {
   "cell_type": "code",
   "execution_count": null,
   "metadata": {
    "collapsed": true
   },
   "outputs": [],
   "source": [
    "filtrados =[]\n",
    "for df in dataFrames:\n",
    "    \n",
    "    df = df[filtrarCapitalYGBA(df['place_with_parent_names'])]\n",
    "    filtrados.append(df)"
   ]
  },
  {
   "cell_type": "markdown",
   "metadata": {
    "collapsed": true
   },
   "source": [
    "### Por las dudas chequeo que ahora las frecuencias sean las mismas y solo queden las zonas que interesan"
   ]
  },
  {
   "cell_type": "code",
   "execution_count": null,
   "metadata": {
    "collapsed": true
   },
   "outputs": [],
   "source": [
    "frecuencias = {}\n",
    "for df in filtrados:\n",
    "    parentNames = df['place_with_parent_names']\n",
    "    for padres in parentNames:\n",
    "        zona = padres.split(\"|\")[2]\n",
    "        if zona not in frecuencias:\n",
    "            frecuencias[zona] = 1\n",
    "        else:\n",
    "            frecuencias[zona]+=1"
   ]
  },
  {
   "cell_type": "code",
   "execution_count": null,
   "metadata": {},
   "outputs": [],
   "source": [
    "for key in frecuencias:\n",
    "    print key, frecuencias[key]"
   ]
  },
  {
   "cell_type": "markdown",
   "metadata": {},
   "source": [
    "# Ahora recupero datos, elimino algunas columnas, y demas.\n",
    "# Primero miro como estan los datos, para ver si conviene trabajar con los precios en pesos argentinos o dolares. "
   ]
  },
  {
   "cell_type": "code",
   "execution_count": null,
   "metadata": {
    "collapsed": true
   },
   "outputs": [],
   "source": [
    "def a(df, column_name):\n",
    "    try:\n",
    "        return(df[column_name].isnull().sum(),0)\n",
    "    except:\n",
    "        return (0,1)"
   ]
  },
  {
   "cell_type": "code",
   "execution_count": null,
   "metadata": {
    "collapsed": true
   },
   "outputs": [],
   "source": [
    "nulsPriceAproxLocalCurr = 0\n",
    "nulsPriceAproxUsd = 0\n",
    "nulsPricePerM2 = 0\n",
    "nulsPricePerM2usd = 0\n",
    "\n",
    "priceAproxLocalCurrInex = 0\n",
    "priceAproxUsdInex = 0\n",
    "pricePerM2Inex = 0\n",
    "pricePerM2usdInex = 0\n",
    "\n",
    "for df in filtrados:\n",
    "    nuls, inex = a(df, \"price_aprox_local_currency\")\n",
    "    nulsPriceAproxLocalCurr += nuls\n",
    "    priceAproxLocalCurrInex += inex\n",
    "    nuls,inex = a(df, \"price_aprox_usd\")\n",
    "    nulsPriceAproxUsd += nuls\n",
    "    priceAproxUsdInex += inex\n",
    "    nuls, inex = a(df, \"price_per_m2\")\n",
    "    nulsPricePerM2 += nuls\n",
    "    pricePerM2Inex += inex\n",
    "    nuls,inex = a(df, \"price_usd_per_m2\")\n",
    "    nulsPricePerM2usd += nuls\n",
    "    pricePerM2usdInex += inex"
   ]
  },
  {
   "cell_type": "code",
   "execution_count": null,
   "metadata": {},
   "outputs": [],
   "source": [
    "print str(nulsPriceAproxLocalCurr)+\" Nulls priceAproxLocalCurr\"\n",
    "print str(nulsPriceAproxUsd)+\" Nulls priceAproxUsd\"\n",
    "print str(nulsPricePerM2)+\" Nulls Price Per M2\"\n",
    "print str(nulsPricePerM2usd)+\" Nulls pricePerM2USD\"\n",
    "print str(priceAproxLocalCurrInex)+\" Inexistentes priceAproxLocalCurr\"\n",
    "print str(priceAproxUsdInex)+\" Inexistentes priceAproxUsd\"\n",
    "print str(pricePerM2Inex)+\" Inexistentes pricePerM2\"\n",
    "print str(pricePerM2usdInex)+\" Inexistentes pricePerM2usd\""
   ]
  },
  {
   "cell_type": "markdown",
   "metadata": {},
   "source": [
    "# Tambien miro los datos acerca de las superficies"
   ]
  },
  {
   "cell_type": "code",
   "execution_count": null,
   "metadata": {},
   "outputs": [],
   "source": [
    "for df in filtrados:\n",
    "    print df.columns\n",
    "    print \"\""
   ]
  },
  {
   "cell_type": "markdown",
   "metadata": {},
   "source": [
    "## Observo que algunos archivos solo tienen surface_in_m2, no distingue entre si es cubierta o si es total, suponemos que es la superficie total. "
   ]
  },
  {
   "cell_type": "code",
   "execution_count": null,
   "metadata": {},
   "outputs": [],
   "source": [
    "nulsSuperficieTotal = 0\n",
    "for df in filtrados:\n",
    "    try:\n",
    "        nulsSuperficieTotal += df.surface_in_m2.isnull().sum()\n",
    "    except:\n",
    "        nulsSuperficieTotal += df.surface_total_in_m2.isnull().sum()\n",
    "nulsSuperficieTotal"
   ]
  },
  {
   "cell_type": "markdown",
   "metadata": {},
   "source": [
    "# Recuperamos lo que podemos de cada registro"
   ]
  },
  {
   "cell_type": "code",
   "execution_count": null,
   "metadata": {},
   "outputs": [],
   "source": [
    "#Primero le pongo el mismo nombre a la superficie total\n",
    "for df in filtrados:\n",
    "    try:\n",
    "        df['surface_total_in_m2']\n",
    "    except:\n",
    "        df.rename(columns={'surface_in_m2':'surface_total_in_m2'},inplace=True)\n",
    "    "
   ]
  },
  {
   "cell_type": "markdown",
   "metadata": {},
   "source": [
    "# Recupero la informacion que pueda, precios en dolares y superficie"
   ]
  },
  {
   "cell_type": "code",
   "execution_count": null,
   "metadata": {},
   "outputs": [],
   "source": [
    "def recuperar_superficie(rowProperati):\n",
    "    if pd.isnull(rowProperati['surface_total_in_m2']):\n",
    "\n",
    "        if (not((pd.isnull(rowProperati['price_aprox_usd']))) and (not(pd.isnull(rowProperati['price_usd_per_m2'])))):\n",
    "            \n",
    "            return rowProperati['price_aprox_usd']/rowProperati['price_usd_per_m2']\n",
    "            #rowProperati['surface_total_in_m2'] =\n",
    "        else:\n",
    "            return rowProperati['surface_total_in_m2']\n",
    "    else:\n",
    "        return rowProperati['surface_total_in_m2']\n",
    "\n",
    "def recuperar_precio_usd(rowProperati):\n",
    "    \n",
    "    if pd.isnull(rowProperati['price_aprox_usd']):\n",
    "    \n",
    "        if (not(pd.isnull(rowProperati['surface_total_in_m2'])) and (not(pd.isnull(rowProperati['price_usd_per_m2'])))):\n",
    "            \n",
    "            return rowProperati['surface_total_in_m2']*rowProperati['price_usd_per_m2']\n",
    "            #rowProperati['price_aprox_usd'] = \n",
    "        else:\n",
    "            return rowProperati['price_aprox_usd']\n",
    "    else:\n",
    "        return rowProperati['price_aprox_usd']\n",
    "\n",
    "def recuperar_ppm2(rowProperati):\n",
    "    if pd.isnull(rowProperati['price_usd_per_m2']):\n",
    "        \n",
    "        if (not(pd.isnull(rowProperati['price_aprox_usd'])) and (not(pd.isnull(rowProperati['surface_total_in_m2'])))):\n",
    "        \n",
    "            try:\n",
    "                return rowProperati['price_aprox_usd']/rowProperati['surface_total_in_m2']\n",
    "                #rowProperati['price_usd_per_m2'] = \n",
    "            except ZeroDivisionError:\n",
    "                #Despues se filtra\n",
    "                return 0\n",
    "        else:\n",
    "            return rowProperati['price_usd_per_m2']\n",
    "    else:\n",
    "        return rowProperati['price_usd_per_m2']\n",
    "\n",
    "                "
   ]
  },
  {
   "cell_type": "code",
   "execution_count": null,
   "metadata": {},
   "outputs": [],
   "source": [
    "for df in filtrados:\n",
    "     df['surface_total_in_m2'] = df.apply(lambda row: recuperar_superficie(row),axis=1)\n",
    "     df['price_aprox_usd'] = df.apply(lambda row: recuperar_precio_usd(row),axis=1)\n",
    "     df['price_usd_per_m2'] = df.apply(lambda row: recuperar_ppm2(row),axis=1)"
   ]
  },
  {
   "cell_type": "markdown",
   "metadata": {},
   "source": [
    "# Chequeo que se hayan efectuado cambios"
   ]
  },
  {
   "cell_type": "code",
   "execution_count": null,
   "metadata": {},
   "outputs": [],
   "source": [
    "a = 0\n",
    "b = 0\n",
    "c = 0\n",
    "for df in filtrados:\n",
    "    a += df.price_aprox_usd.isnull().sum()\n",
    "    b += df.price_usd_per_m2.isnull().sum()\n",
    "    c += df.surface_total_in_m2.isnull().sum()\n",
    "\n",
    "print str(a)+\" nuls priceAproxUsd\"\n",
    "print str(c)+\" nuls surface_total_in_m2\"\n",
    "print str(b)+\" nuls pricePerM2usd\""
   ]
  },
  {
   "cell_type": "markdown",
   "metadata": {},
   "source": [
    "## Se recuperaron datos acerca del precio aproximado en usd y el precio por m2 en usd. No se pudieron recuperar nuevos datos acerca de la superficie total"
   ]
  },
  {
   "cell_type": "markdown",
   "metadata": {},
   "source": [
    "## Elimino regisros de cada archivo que sean de fechas que no corresponden"
   ]
  },
  {
   "cell_type": "code",
   "execution_count": null,
   "metadata": {
    "collapsed": true
   },
   "outputs": [],
   "source": [
    "for key in asociados:\n",
    "    #properati-AR-2016-04-01-properties-sell.csv\n",
    "        \n",
    "    fecha = key.split('-')[2:5]\n",
    "    fechaInicio = ('-').join(fecha)\n",
    "    fechaFin = ('-').join(key.split('-')[2:4])\n",
    "    fechaFin = fechaFin + '31'\n",
    "    df = asociados[key]\n",
    "    df = df [df.created_on >= fechaInicio & df.created_on <= fechaFin]"
   ]
  },
  {
   "cell_type": "code",
   "execution_count": null,
   "metadata": {
    "collapsed": true
   },
   "outputs": [],
   "source": [
    "unificacion = pd.concat(filtrados, axis=0, ignore_index=True)"
   ]
  },
  {
   "cell_type": "code",
   "execution_count": null,
   "metadata": {
    "collapsed": true
   },
   "outputs": [],
   "source": [
    "unificacion.describe()"
   ]
  },
  {
   "cell_type": "code",
   "execution_count": null,
   "metadata": {
    "collapsed": true
   },
   "outputs": [],
   "source": [
    "unificacion.drop([\"Unnamed: 0\", \"extra\", \"properati_url\", \"image_thumbnail\",\"country_name\", \"lat\",\"lon\",\"operation\"], axis = 1, inplace= True)\n",
    "unificacion.to_csv(\"properati - GBA Y CABA 2013-2017\")"
   ]
  },
  {
   "cell_type": "code",
   "execution_count": null,
   "metadata": {
    "collapsed": true
   },
   "outputs": [],
   "source": []
  }
 ],
 "metadata": {
  "kernelspec": {
   "display_name": "Python 2",
   "language": "python",
   "name": "python2"
  },
  "language_info": {
   "codemirror_mode": {
    "name": "ipython",
    "version": 2
   },
   "file_extension": ".py",
   "mimetype": "text/x-python",
   "name": "python",
   "nbconvert_exporter": "python",
   "pygments_lexer": "ipython2",
   "version": "2.7.13"
  }
 },
 "nbformat": 4,
 "nbformat_minor": 2
}
