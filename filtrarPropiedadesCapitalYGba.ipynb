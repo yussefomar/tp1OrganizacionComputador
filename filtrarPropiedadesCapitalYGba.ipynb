{
 "cells": [
  {
   "cell_type": "code",
   "execution_count": 1,
   "metadata": {
    "collapsed": true
   },
   "outputs": [],
   "source": [
    "import pandas as pd\n",
    "import numpy as np\n",
    "import os"
   ]
  },
  {
   "cell_type": "markdown",
   "metadata": {},
   "source": [
    "## En datos/properati deben estar todos los archivos de ventas provistos por properati"
   ]
  },
  {
   "cell_type": "code",
   "execution_count": 2,
   "metadata": {
    "collapsed": true
   },
   "outputs": [],
   "source": [
    "filesProperati = filter( lambda f: not f.startswith('.'), os.listdir(\"datos/properati\"))"
   ]
  },
  {
   "cell_type": "code",
   "execution_count": 3,
   "metadata": {
    "collapsed": true
   },
   "outputs": [],
   "source": [
    "\n",
    "dataframes = []\n",
    "for file_name in filesProperati:\n",
    "    \n",
    "    newDataFrame = pd.read_csv(\"datos/properati/\"+file_name)\n",
    "    dataframes.append(newDataFrame)\n",
    "\n",
    "       "
   ]
  },
  {
   "cell_type": "markdown",
   "metadata": {},
   "source": [
    "## ¿Como filtramos por las zonas pedidas?"
   ]
  },
  {
   "cell_type": "code",
   "execution_count": 4,
   "metadata": {},
   "outputs": [
    {
     "name": "stdout",
     "output_type": "stream",
     "text": [
      "Cantidad de registros con valor nulo en state_name: 0\n",
      "Cantidad de registros con valor nulo en place_w_parent_names: 0\n",
      "Cantidad de archivos que no cuentan con la columna state_name: 26\n",
      "Cantidad de archivos que no cuentan con la columna place_w_parent_names: 0\n"
     ]
    }
   ],
   "source": [
    "nulosStateName = 0\n",
    "nulosPlaceWParentNames = 0\n",
    "noCuentaConStateName = 0\n",
    "noCuentaConPlaceWParentNames = 0\n",
    "for df in dataframes:\n",
    "    try:\n",
    "        nulosStateName += df.state_name.isnull().sum()\n",
    "    except:\n",
    "        noCuentaConStateName += 1\n",
    "    try:\n",
    "        nulosPlaceWParentNames += df.place_with_parent_names.isnull().sum()\n",
    "    except:\n",
    "        noCuentaConPlaceWParentNames += 1\n",
    "print \"Cantidad de registros con valor nulo en state_name: \"+str(nulosStateName)\n",
    "print \"Cantidad de registros con valor nulo en place_w_parent_names: \"+str(nulosPlaceWParentNames)\n",
    "print \"Cantidad de archivos que no cuentan con la columna state_name: \"+str(noCuentaConStateName)\n",
    "print \"Cantidad de archivos que no cuentan con la columna place_w_parent_names: \"+str(noCuentaConPlaceWParentNames)"
   ]
  },
  {
   "cell_type": "markdown",
   "metadata": {
    "collapsed": true
   },
   "source": [
    "## Dado los resultados, para quedarnos solo con las propiedades de Capital Federal y GBA tendremos que utilizar la columna 'place_with_parent_names'"
   ]
  },
  {
   "cell_type": "code",
   "execution_count": 5,
   "metadata": {
    "collapsed": true
   },
   "outputs": [],
   "source": [
    "frecuencias = {}\n",
    "for df in dataframes:\n",
    "    parentNames = df['place_with_parent_names']\n",
    "    for padres in parentNames:\n",
    "        zona = padres.split(\"|\")[2]\n",
    "        if zona not in frecuencias:\n",
    "            frecuencias[zona] = 1\n",
    "        else:\n",
    "            frecuencias[zona]+=1"
   ]
  },
  {
   "cell_type": "code",
   "execution_count": 6,
   "metadata": {},
   "outputs": [
    {
     "name": "stdout",
     "output_type": "stream",
     "text": [
      "San Juan 568\n",
      "Córdoba 99129\n",
      "Chaco 1868\n",
      "Mendoza 8315\n",
      "Colonia 205\n",
      "Chubut 1194\n",
      "Capital Federal 656229\n",
      "San Luis 6929\n",
      "Tucumán 3968\n",
      "Misiones 11127\n",
      "Tierra Del Fuego 890\n",
      "Bs.As. G.B.A. Zona Oeste 304893\n",
      "Corrientes 1436\n",
      "Formosa 341\n",
      "Maldonado 6101\n",
      "Río Negro 17661\n",
      "Santa Cruz 242\n",
      "New York 41\n",
      "California 29\n",
      "Montevideo 3281\n",
      "Neuquén 11194\n",
      "La Pampa 5134\n",
      "Buenos Aires Costa Atlántica 301094\n",
      "Buenos Aires Interior 62686\n",
      "Miami 987\n",
      "Florida 1187\n",
      "Bs.As. G.B.A. Zona Sur 167017\n",
      "Santa Catarina 268\n",
      "Santiago Del Estero 282\n",
      "Rocha 85\n",
      "Jujuy 502\n",
      "Punta del Este 15209\n",
      "Santa Fe 117984\n",
      "Salta 7621\n",
      "La Rioja 333\n",
      "Entre Ríos 16068\n",
      "Bs.As. G.B.A. Zona Norte 541028\n",
      "Catamarca 886\n"
     ]
    }
   ],
   "source": [
    "for zona in frecuencias: \n",
    "    print zona,frecuencias[zona]"
   ]
  },
  {
   "cell_type": "markdown",
   "metadata": {
    "collapsed": true
   },
   "source": [
    "## Interesan: Bs.As. G.B.A. Zona Norte, Bs.As. G.B.A. Zona Sur, Bs.As. G.B.A. Zona Oeste, Capital Federal\n"
   ]
  },
  {
   "cell_type": "code",
   "execution_count": 7,
   "metadata": {
    "collapsed": true
   },
   "outputs": [],
   "source": [
    "def filtrarCapitalYGBA(serie):\n",
    "    deseados = [\"Bs.As. G.B.A. Zona Norte\", \"Bs.As. G.B.A. Zona Sur\", \"Bs.As. G.B.A. Zona Oeste\", \"Capital Federal\"]\n",
    "    booleans = []\n",
    "    for item in serie:\n",
    "        if item.split(\"|\")[2] in deseados:\n",
    "            booleans.append(True)\n",
    "        else:\n",
    "            booleans.append(False)\n",
    "    return booleans"
   ]
  },
  {
   "cell_type": "code",
   "execution_count": 8,
   "metadata": {
    "collapsed": true
   },
   "outputs": [],
   "source": [
    "filtrados =[]\n",
    "for df in dataframes:\n",
    "    \n",
    "    df = df[filtrarCapitalYGBA(df['place_with_parent_names'])]\n",
    "    filtrados.append(df)"
   ]
  },
  {
   "cell_type": "markdown",
   "metadata": {
    "collapsed": true
   },
   "source": [
    "### Por las dudas chequeo que ahora las frecuencias sean las mismas y solo queden las zonas que interesan"
   ]
  },
  {
   "cell_type": "code",
   "execution_count": 9,
   "metadata": {
    "collapsed": true
   },
   "outputs": [],
   "source": [
    "frecuencias = {}\n",
    "for df in filtrados:\n",
    "    parentNames = df['place_with_parent_names']\n",
    "    for padres in parentNames:\n",
    "        zona = padres.split(\"|\")[2]\n",
    "        if zona not in frecuencias:\n",
    "            frecuencias[zona] = 1\n",
    "        else:\n",
    "            frecuencias[zona]+=1"
   ]
  },
  {
   "cell_type": "code",
   "execution_count": 10,
   "metadata": {},
   "outputs": [
    {
     "name": "stdout",
     "output_type": "stream",
     "text": [
      "Capital Federal 656229\n",
      "Bs.As. G.B.A. Zona Norte 541028\n",
      "Bs.As. G.B.A. Zona Oeste 304893\n",
      "Bs.As. G.B.A. Zona Sur 167017\n"
     ]
    }
   ],
   "source": [
    "for key in frecuencias:\n",
    "    print key, frecuencias[key]"
   ]
  },
  {
   "cell_type": "markdown",
   "metadata": {},
   "source": [
    "# Ahora recupero datos, elimino algunas columnas, y demas.\n",
    "# Primero miro como estan los datos, para ver si conviene trabajar con los precios en pesos argentinos o dolares. "
   ]
  },
  {
   "cell_type": "code",
   "execution_count": 11,
   "metadata": {
    "collapsed": true
   },
   "outputs": [],
   "source": [
    "def a(df, column_name):\n",
    "    try:\n",
    "        return(df[column_name].isnull().sum(),0)\n",
    "    except:\n",
    "        return (0,1)"
   ]
  },
  {
   "cell_type": "code",
   "execution_count": 12,
   "metadata": {
    "collapsed": true
   },
   "outputs": [],
   "source": [
    "nulsPriceAproxLocalCurr = 0\n",
    "nulsPriceAproxUsd = 0\n",
    "nulsPricePerM2 = 0\n",
    "nulsPricePerM2usd = 0\n",
    "\n",
    "priceAproxLocalCurrInex = 0\n",
    "priceAproxUsdInex = 0\n",
    "pricePerM2Inex = 0\n",
    "pricePerM2usdInex = 0\n",
    "\n",
    "for df in filtrados:\n",
    "    nuls, inex = a(df, \"price_aprox_local_currency\")\n",
    "    nulsPriceAproxLocalCurr += nuls\n",
    "    priceAproxLocalCurrInex += inex\n",
    "    nuls,inex = a(df, \"price_aprox_usd\")\n",
    "    nulsPriceAproxUsd += nuls\n",
    "    priceAproxUsdInex += inex\n",
    "    nuls, inex = a(df, \"price_per_m2\")\n",
    "    nulsPricePerM2 += nuls\n",
    "    pricePerM2Inex += inex\n",
    "    nuls,inex = a(df, \"price_usd_per_m2\")\n",
    "    nulsPricePerM2usd += nuls\n",
    "    pricePerM2usdInex += inex"
   ]
  },
  {
   "cell_type": "code",
   "execution_count": 13,
   "metadata": {},
   "outputs": [
    {
     "name": "stdout",
     "output_type": "stream",
     "text": [
      "213656 Nulls priceAproxLocalCurr\n",
      "213656 Nulls priceAproxUsd\n",
      "93534 Nulls Price Per M2\n",
      "639946 Nulls pricePerM2USD\n",
      "0 Inexistentes priceAproxLocalCurr\n",
      "0 Inexistentes priceAproxUsd\n",
      "26 Inexistentes pricePerM2\n",
      "0 Inexistentes pricePerM2usd\n"
     ]
    }
   ],
   "source": [
    "print str(nulsPriceAproxLocalCurr)+\" Nulls priceAproxLocalCurr\"\n",
    "print str(nulsPriceAproxUsd)+\" Nulls priceAproxUsd\"\n",
    "print str(nulsPricePerM2)+\" Nulls Price Per M2\"\n",
    "print str(nulsPricePerM2usd)+\" Nulls pricePerM2USD\"\n",
    "print str(priceAproxLocalCurrInex)+\" Inexistentes priceAproxLocalCurr\"\n",
    "print str(priceAproxUsdInex)+\" Inexistentes priceAproxUsd\"\n",
    "print str(pricePerM2Inex)+\" Inexistentes pricePerM2\"\n",
    "print str(pricePerM2usdInex)+\" Inexistentes pricePerM2usd\""
   ]
  },
  {
   "cell_type": "markdown",
   "metadata": {},
   "source": [
    "# Tambien miro los datos acerca de las superficies"
   ]
  },
  {
   "cell_type": "markdown",
   "metadata": {},
   "source": [
    "## Observo que algunos archivos solo tienen una columna 'surface_in_m2', no distingue entre si es cubierta o si es total, suponemos que es la superficie total. "
   ]
  },
  {
   "cell_type": "code",
   "execution_count": 14,
   "metadata": {},
   "outputs": [
    {
     "data": {
      "text/plain": [
       "449915"
      ]
     },
     "execution_count": 14,
     "metadata": {},
     "output_type": "execute_result"
    }
   ],
   "source": [
    "nulsSuperficieTotal = 0\n",
    "for df in filtrados:\n",
    "    try:\n",
    "        nulsSuperficieTotal += df.surface_in_m2.isnull().sum()\n",
    "    except:\n",
    "        nulsSuperficieTotal += df.surface_total_in_m2.isnull().sum()\n",
    "nulsSuperficieTotal"
   ]
  },
  {
   "cell_type": "code",
   "execution_count": 15,
   "metadata": {},
   "outputs": [
    {
     "name": "stdout",
     "output_type": "stream",
     "text": [
      "Cantidad de propiedades de las que se conoce el precio por m2 (En pesos) pero no en dolares: 91723\n"
     ]
    }
   ],
   "source": [
    "#Cuenta cuantas propiedades tienen el precio por m2 en dolares nulo, \n",
    "#pero el precio local no nulo\n",
    "count = 0\n",
    "for df in filtrados:\n",
    "    try:\n",
    "        count += len(df[~df.price_per_m2.isnull() & df.price_usd_per_m2.isnull()])\n",
    "    except:\n",
    "        #Algunos dataframes no tienen el precio por m2 en pesos\n",
    "        continue\n",
    "print \"Cantidad de propiedades de las que se conoce el precio por m2 (En pesos)\\\n",
    " pero no en dolares: \"+str(count)"
   ]
  },
  {
   "cell_type": "markdown",
   "metadata": {},
   "source": [
    "# ¿La columna price, tiene el mismo precio que price_aprox_usd o el mismo precio que price_aprox_local_curr? solo analizamos para el caso en el que no este el precio en dolares"
   ]
  },
  {
   "cell_type": "code",
   "execution_count": 16,
   "metadata": {},
   "outputs": [
    {
     "name": "stdout",
     "output_type": "stream",
     "text": [
      "1\n",
      "1321544\n"
     ]
    }
   ],
   "source": [
    "mismo_usd = 0\n",
    "mismo_aprox_local_curr = 0\n",
    "for df in filtrados:\n",
    "    mismo_aprox_local_curr += len(df[(df[\"price_aprox_local_currency\"] == df[\"price\"]) &\\\n",
    "                                    (df[\"price\"] != df[\"price_aprox_usd\"]) & \\\n",
    "                                    ~df[\"price_aprox_usd\"].isnull()])\n",
    "    mismo_usd += len(df[df[\"price_aprox_usd\"] == df[\"price\"]])\n",
    "\n",
    "print mismo_aprox_local_curr\n",
    "print mismo_usd\n",
    "    "
   ]
  },
  {
   "cell_type": "markdown",
   "metadata": {},
   "source": [
    "# Salvo un caso, la columna price contiene los mismos valores que la columna price_aprox_usd. Descarto la columna price. ¿Puedo recuperar precio de propiedades en dolares a partir del precio aproximado local?"
   ]
  },
  {
   "cell_type": "code",
   "execution_count": 17,
   "metadata": {},
   "outputs": [
    {
     "name": "stdout",
     "output_type": "stream",
     "text": [
      "2\n"
     ]
    }
   ],
   "source": [
    "coincidencias = 0\n",
    "for df in filtrados:\n",
    "    coincidencias += len(df[(~df[\"price_aprox_local_currency\"].isnull() & df[\"price_aprox_usd\"].isnull()) |\\\n",
    "                            (~df[\"price\"].isnull() & df[\"price_aprox_usd\"].isnull())])\n",
    "\n",
    "print coincidencias\n",
    "    "
   ]
  },
  {
   "cell_type": "markdown",
   "metadata": {},
   "source": [
    "# Son tan solo dos casos en los que el precio aproximado local no es nulo y el precio en dolares lo es. No tenerlo en cuenta no deberia afectarnos"
   ]
  },
  {
   "cell_type": "markdown",
   "metadata": {},
   "source": [
    "# Se pueden recuperar datos de los precios en dolares por m2 realizando la correspondiente conversion. De igual manera, antes estudio para ver que no se pueda recuperar de otra manera. ¿A cuantos se les desconoce el precio por m2 en USD y no se conoce el precio total (en USD) o la superficie total?"
   ]
  },
  {
   "cell_type": "code",
   "execution_count": 18,
   "metadata": {},
   "outputs": [
    {
     "name": "stdout",
     "output_type": "stream",
     "text": [
      "78325\n"
     ]
    }
   ],
   "source": [
    "coincidencias = 0\n",
    "for df in filtrados:\n",
    "    if \"price_per_m2\" in df.columns:\n",
    "        coincidencias += len(df[(~df[\"price_per_m2\"].isnull() & df[\"price_usd_per_m2\"].isnull())\\\n",
    "                           & (df[\"price_aprox_usd\"].isnull() | df[\"surface_total_in_m2\"].isnull())])\n",
    "\n",
    "print coincidencias    "
   ]
  },
  {
   "cell_type": "markdown",
   "metadata": {},
   "source": [
    "# 78325 de 639946 registros pueden ser recuperados si realizamos la conversion "
   ]
  },
  {
   "cell_type": "markdown",
   "metadata": {},
   "source": [
    "# Los datos para las conversiones fueron encontrados en:\n",
    "### www.bcra.gob.ar/Pdfs/PublicacionesEstadisticas/com3500.xls\n",
    "# Los mismos fueron formateados de manera conveniente por como se nos presentan los datos de properati, usando LibreOffice Calc"
   ]
  },
  {
   "cell_type": "code",
   "execution_count": 19,
   "metadata": {
    "collapsed": true
   },
   "outputs": [],
   "source": [
    "\n",
    "datosDolar = pd.read_csv(\"info_dolar.csv\",index_col = \"Fecha\")"
   ]
  },
  {
   "cell_type": "code",
   "execution_count": 20,
   "metadata": {
    "collapsed": true
   },
   "outputs": [],
   "source": [
    "from datetime import datetime\n",
    "from datetime import timedelta\n",
    "def recuperar_precio_m2_en_dolares(rowProperati):\n",
    "    if ~pd.isnull(rowProperati[\"price_per_m2\"]) & pd.isnull(rowProperati[\"price_usd_per_m2\"]):\n",
    "        fechaCreacionPropiedad = rowProperati[\"created_on\"]\n",
    "        anho = int(fechaCreacionPropiedad.split(\"-\")[0])\n",
    "        mes = int(fechaCreacionPropiedad.split(\"-\")[1])\n",
    "        dia = int(fechaCreacionPropiedad.split(\"-\")[2])\n",
    "        fechaConCotizacion = datetime(anho, mes, dia)\n",
    "        fechaEncontrada = False\n",
    "        while not(fechaEncontrada):\n",
    "            try:\n",
    "                cotizFechaCreacProp = float(datosDolar.ix[fechaConCotizacion.strftime('%Y-%m-%d')][\"Cotizacion Dolar\"])\n",
    "                fechaEncontrada = True\n",
    "            except:\n",
    "                #En esa fecha no se habia publicado informacion del dolar (no vario)\n",
    "                #Me fijo en el dia anterior\n",
    "                fechaConCotizacion = fechaConCotizacion - timedelta(days = 1)\n",
    "        return cotizFechaCreacProp*rowProperati[\"price_per_m2\"]\n",
    "    else:\n",
    "        return rowProperati[\"price_per_m2\"]"
   ]
  },
  {
   "cell_type": "code",
   "execution_count": null,
   "metadata": {
    "collapsed": true
   },
   "outputs": [],
   "source": [
    "for df in filtrados:\n",
    "    if \"price_per_m2\" in df.columns:\n",
    "        df[\"price_usd_per_m2\"] = df.apply(lambda row: recuperar_precio_m2_en_dolares(row),axis=1)"
   ]
  },
  {
   "cell_type": "markdown",
   "metadata": {},
   "source": [
    "# Corroboro"
   ]
  },
  {
   "cell_type": "code",
   "execution_count": 22,
   "metadata": {},
   "outputs": [
    {
     "name": "stdout",
     "output_type": "stream",
     "text": [
      "0\n"
     ]
    }
   ],
   "source": [
    "coincidencias = 0\n",
    "for df in filtrados:\n",
    "    if \"price_per_m2\" in df.columns:\n",
    "        coincidencias += len(df[(~df[\"price_per_m2\"].isnull() & df[\"price_usd_per_m2\"].isnull())\\\n",
    "                           & (df[\"price_aprox_usd\"].isnull() | df[\"surface_total_in_m2\"].isnull())])\n",
    "\n",
    "print coincidencias    "
   ]
  },
  {
   "cell_type": "markdown",
   "metadata": {},
   "source": [
    "# Se recuperaron 78325 registros mediante la conversion a dolares del precio del metro cuadrado"
   ]
  },
  {
   "cell_type": "markdown",
   "metadata": {},
   "source": [
    "# ¿Se puede recuperar mas informacion?"
   ]
  },
  {
   "cell_type": "code",
   "execution_count": null,
   "metadata": {
    "collapsed": true
   },
   "outputs": [],
   "source": [
    "#Primero le pongo el mismo nombre a la superficie total\n",
    "for df in filtrados:\n",
    "    try:\n",
    "        df['surface_total_in_m2']\n",
    "    except:\n",
    "        df.rename(columns={'surface_in_m2':'surface_total_in_m2'},inplace=True)\n",
    "    "
   ]
  },
  {
   "cell_type": "code",
   "execution_count": 24,
   "metadata": {},
   "outputs": [
    {
     "name": "stdout",
     "output_type": "stream",
     "text": [
      "278\n",
      "78325\n",
      "52089\n"
     ]
    }
   ],
   "source": [
    "#S 'se tiene informacion de' N 'no se tiene informacion de'\n",
    "S_ppm2_S_sup_N_precio = 0\n",
    "S_ppm2_S_precio_N_sup = 0\n",
    "S_sup_S_precio_N_ppm2 = 0\n",
    "for df in filtrados:\n",
    "    S_ppm2_S_sup_N_precio += len(df[~df[\"price_usd_per_m2\"].isnull() &\\\n",
    "                                    ~df[\"surface_total_in_m2\"].isnull() &\\\n",
    "                                    df[\"price_aprox_usd\"].isnull()])\n",
    "    S_ppm2_S_precio_N_sup += len(df[~df[\"price_usd_per_m2\"].isnull() &\\\n",
    "                                    ~df[\"price_aprox_usd\"].isnull() &\\\n",
    "                                    df[\"surface_total_in_m2\"].isnull()])\n",
    "    S_sup_S_precio_N_ppm2 += len(df[~df[\"surface_total_in_m2\"].isnull() &\\\n",
    "                                    ~df[\"price_aprox_usd\"].isnull() &\\\n",
    "                                    df[\"price_usd_per_m2\"].isnull()])\n",
    "print S_ppm2_S_sup_N_precio\n",
    "print S_ppm2_S_precio_N_sup\n",
    "print S_sup_S_precio_N_ppm2"
   ]
  },
  {
   "cell_type": "markdown",
   "metadata": {},
   "source": [
    "# Recupero esta informacion"
   ]
  },
  {
   "cell_type": "code",
   "execution_count": 25,
   "metadata": {
    "collapsed": true
   },
   "outputs": [],
   "source": [
    "from utils_recuperacion_datos import recuperar_superficie,recuperar_precio_usd,recuperar_ppm2"
   ]
  },
  {
   "cell_type": "code",
   "execution_count": null,
   "metadata": {
    "collapsed": true
   },
   "outputs": [],
   "source": [
    "for df in filtrados:\n",
    "     df['surface_total_in_m2'] = df.apply(lambda row: recuperar_superficie(row),axis=1)\n",
    "     df['price_aprox_usd'] = df.apply(lambda row: recuperar_precio_usd(row),axis=1)\n",
    "     df['price_usd_per_m2'] = df.apply(lambda row: recuperar_ppm2(row),axis=1)"
   ]
  },
  {
   "cell_type": "markdown",
   "metadata": {},
   "source": [
    "## Chequeo que se hayan recuperado datos"
   ]
  },
  {
   "cell_type": "code",
   "execution_count": 27,
   "metadata": {},
   "outputs": [
    {
     "name": "stdout",
     "output_type": "stream",
     "text": [
      "0\n",
      "0\n",
      "0\n"
     ]
    }
   ],
   "source": [
    "#S 'se tiene informacion de' N 'no se tiene informacion de'\n",
    "S_ppm2_S_sup_N_precio = 0\n",
    "S_ppm2_S_precio_N_sup = 0\n",
    "S_sup_S_precio_N_ppm2 = 0\n",
    "for df in filtrados:\n",
    "    S_ppm2_S_sup_N_precio += len(df[~df[\"price_usd_per_m2\"].isnull() &\\\n",
    "                                    ~df[\"surface_total_in_m2\"].isnull() &\\\n",
    "                                    df[\"price_aprox_usd\"].isnull()])\n",
    "    S_ppm2_S_precio_N_sup += len(df[~df[\"price_usd_per_m2\"].isnull() &\\\n",
    "                                    ~df[\"price_aprox_usd\"].isnull() &\\\n",
    "                                    df[\"surface_total_in_m2\"].isnull()])\n",
    "    S_sup_S_precio_N_ppm2 += len(df[~df[\"surface_total_in_m2\"].isnull() &\\\n",
    "                                    ~df[\"price_aprox_usd\"].isnull() &\\\n",
    "                                    df[\"price_usd_per_m2\"].isnull()])\n",
    "print S_ppm2_S_sup_N_precio\n",
    "print S_ppm2_S_precio_N_sup\n",
    "print S_sup_S_precio_N_ppm2"
   ]
  },
  {
   "cell_type": "markdown",
   "metadata": {},
   "source": [
    "## A continuacion unifico y voy eliminando duplicados, teniendo en cuenta distintos subgrupos de columnas"
   ]
  },
  {
   "cell_type": "code",
   "execution_count": 28,
   "metadata": {
    "collapsed": true
   },
   "outputs": [],
   "source": [
    "unificacion = pd.concat(filtrados, axis=0, ignore_index=True)"
   ]
  },
  {
   "cell_type": "code",
   "execution_count": 31,
   "metadata": {},
   "outputs": [
    {
     "data": {
      "text/plain": [
       "1669167"
      ]
     },
     "execution_count": 31,
     "metadata": {},
     "output_type": "execute_result"
    }
   ],
   "source": [
    "len(unificacion)"
   ]
  },
  {
   "cell_type": "code",
   "execution_count": 32,
   "metadata": {
    "collapsed": true
   },
   "outputs": [],
   "source": [
    "#Elimino los registros que tengan todas las columnas identicas\n",
    "a = unificacion.drop_duplicates()"
   ]
  },
  {
   "cell_type": "code",
   "execution_count": 33,
   "metadata": {
    "scrolled": true
   },
   "outputs": [
    {
     "data": {
      "text/plain": [
       "1339383"
      ]
     },
     "execution_count": 33,
     "metadata": {},
     "output_type": "execute_result"
    }
   ],
   "source": [
    "len(a)"
   ]
  },
  {
   "cell_type": "code",
   "execution_count": 34,
   "metadata": {
    "collapsed": true
   },
   "outputs": [],
   "source": [
    "#Los que no tienen ni precio aproximado en dolares ni precio por m2 en dolar ya no me interesan\n",
    "b = a[~a[\"price_aprox_usd\"].isnull() | ~a[\"price_usd_per_m2\"].isnull()]"
   ]
  },
  {
   "cell_type": "code",
   "execution_count": 35,
   "metadata": {},
   "outputs": [
    {
     "data": {
      "text/plain": [
       "1205487"
      ]
     },
     "execution_count": 35,
     "metadata": {},
     "output_type": "execute_result"
    }
   ],
   "source": [
    "len(b)"
   ]
  },
  {
   "cell_type": "code",
   "execution_count": 36,
   "metadata": {
    "collapsed": true
   },
   "outputs": [],
   "source": [
    "links_repetidos = b[\"properati_url\"].value_counts()"
   ]
  },
  {
   "cell_type": "markdown",
   "metadata": {},
   "source": [
    "# Observo un poco que informacion encuentro en estas publicaciones con links repetidos"
   ]
  },
  {
   "cell_type": "code",
   "execution_count": 37,
   "metadata": {},
   "outputs": [
    {
     "data": {
      "text/plain": [
       "http://www.properati.com.ar/95fn_venta_departamento_capital-federal                                       22\n",
       "http://www.properati.com.ar/7v2b_venta_departamento_olivos_avenida-del-libertador-gral-san-martin_2300    22\n",
       "Name: properati_url, dtype: int64"
      ]
     },
     "execution_count": 37,
     "metadata": {},
     "output_type": "execute_result"
    }
   ],
   "source": [
    "links_repetidos.head(2)"
   ]
  },
  {
   "cell_type": "code",
   "execution_count": 38,
   "metadata": {},
   "outputs": [
    {
     "data": {
      "text/html": [
       "<div>\n",
       "<style>\n",
       "    .dataframe thead tr:only-child th {\n",
       "        text-align: right;\n",
       "    }\n",
       "\n",
       "    .dataframe thead th {\n",
       "        text-align: left;\n",
       "    }\n",
       "\n",
       "    .dataframe tbody tr th {\n",
       "        vertical-align: top;\n",
       "    }\n",
       "</style>\n",
       "<table border=\"1\" class=\"dataframe\">\n",
       "  <thead>\n",
       "    <tr style=\"text-align: right;\">\n",
       "      <th></th>\n",
       "      <th>country_name</th>\n",
       "      <th>created_on</th>\n",
       "      <th>currency</th>\n",
       "      <th>description</th>\n",
       "      <th>expenses</th>\n",
       "      <th>extra</th>\n",
       "      <th>floor</th>\n",
       "      <th>geonames_id</th>\n",
       "      <th>id</th>\n",
       "      <th>image_thumbnail</th>\n",
       "      <th>...</th>\n",
       "      <th>price_aprox_usd</th>\n",
       "      <th>price_per_m2</th>\n",
       "      <th>price_usd_per_m2</th>\n",
       "      <th>properati_url</th>\n",
       "      <th>property_type</th>\n",
       "      <th>rooms</th>\n",
       "      <th>state_name</th>\n",
       "      <th>surface_covered_in_m2</th>\n",
       "      <th>surface_total_in_m2</th>\n",
       "      <th>title</th>\n",
       "    </tr>\n",
       "  </thead>\n",
       "  <tbody>\n",
       "    <tr>\n",
       "      <th>74702</th>\n",
       "      <td>NaN</td>\n",
       "      <td>2013-08-12</td>\n",
       "      <td>USD</td>\n",
       "      <td>NaN</td>\n",
       "      <td>NaN</td>\n",
       "      <td>NaN</td>\n",
       "      <td>11.0</td>\n",
       "      <td>3433955.0</td>\n",
       "      <td>NaN</td>\n",
       "      <td>http://cf-thumbs.properati.com.ar/IutzRsfg9NDG...</td>\n",
       "      <td>...</td>\n",
       "      <td>117900.0</td>\n",
       "      <td>NaN</td>\n",
       "      <td>1871.428571</td>\n",
       "      <td>http://www.properati.com.ar/95fn_venta_departa...</td>\n",
       "      <td>apartment</td>\n",
       "      <td>1.0</td>\n",
       "      <td>NaN</td>\n",
       "      <td>NaN</td>\n",
       "      <td>63.0</td>\n",
       "      <td>NaN</td>\n",
       "    </tr>\n",
       "    <tr>\n",
       "      <th>137024</th>\n",
       "      <td>NaN</td>\n",
       "      <td>2013-08-12</td>\n",
       "      <td>USD</td>\n",
       "      <td>NaN</td>\n",
       "      <td>NaN</td>\n",
       "      <td>NaN</td>\n",
       "      <td>11.0</td>\n",
       "      <td>3433955.0</td>\n",
       "      <td>NaN</td>\n",
       "      <td>http://cf-thumbs.properati.com.ar/IutzRsfg9NDG...</td>\n",
       "      <td>...</td>\n",
       "      <td>117900.0</td>\n",
       "      <td>NaN</td>\n",
       "      <td>1871.428571</td>\n",
       "      <td>http://www.properati.com.ar/95fn_venta_departa...</td>\n",
       "      <td>apartment</td>\n",
       "      <td>1.0</td>\n",
       "      <td>NaN</td>\n",
       "      <td>NaN</td>\n",
       "      <td>63.0</td>\n",
       "      <td>NaN</td>\n",
       "    </tr>\n",
       "    <tr>\n",
       "      <th>207175</th>\n",
       "      <td>NaN</td>\n",
       "      <td>2013-08-12</td>\n",
       "      <td>USD</td>\n",
       "      <td>NaN</td>\n",
       "      <td>NaN</td>\n",
       "      <td>NaN</td>\n",
       "      <td>11.0</td>\n",
       "      <td>3433955.0</td>\n",
       "      <td>NaN</td>\n",
       "      <td>http://cf-thumbs.properati.com.ar/c7mTrSMGO5ke...</td>\n",
       "      <td>...</td>\n",
       "      <td>117900.0</td>\n",
       "      <td>NaN</td>\n",
       "      <td>1871.428571</td>\n",
       "      <td>http://www.properati.com.ar/95fn_venta_departa...</td>\n",
       "      <td>apartment</td>\n",
       "      <td>1.0</td>\n",
       "      <td>NaN</td>\n",
       "      <td>NaN</td>\n",
       "      <td>63.0</td>\n",
       "      <td>NaN</td>\n",
       "    </tr>\n",
       "    <tr>\n",
       "      <th>236474</th>\n",
       "      <td>NaN</td>\n",
       "      <td>2013-08-12</td>\n",
       "      <td>USD</td>\n",
       "      <td>NaN</td>\n",
       "      <td>NaN</td>\n",
       "      <td>NaN</td>\n",
       "      <td>11.0</td>\n",
       "      <td>3433955.0</td>\n",
       "      <td>NaN</td>\n",
       "      <td>http://cf-thumbs.properati.com.ar/CIuogg3sb46t...</td>\n",
       "      <td>...</td>\n",
       "      <td>117900.0</td>\n",
       "      <td>NaN</td>\n",
       "      <td>1871.428571</td>\n",
       "      <td>http://www.properati.com.ar/95fn_venta_departa...</td>\n",
       "      <td>apartment</td>\n",
       "      <td>1.0</td>\n",
       "      <td>NaN</td>\n",
       "      <td>NaN</td>\n",
       "      <td>63.0</td>\n",
       "      <td>NaN</td>\n",
       "    </tr>\n",
       "    <tr>\n",
       "      <th>267336</th>\n",
       "      <td>NaN</td>\n",
       "      <td>2013-08-12</td>\n",
       "      <td>USD</td>\n",
       "      <td>NaN</td>\n",
       "      <td>NaN</td>\n",
       "      <td>NaN</td>\n",
       "      <td>11.0</td>\n",
       "      <td>3433955.0</td>\n",
       "      <td>NaN</td>\n",
       "      <td>http://d1t4y5hzjn9jnl.cloudfront.net/siM2ypcMK...</td>\n",
       "      <td>...</td>\n",
       "      <td>117900.0</td>\n",
       "      <td>NaN</td>\n",
       "      <td>NaN</td>\n",
       "      <td>http://www.properati.com.ar/95fn_venta_departa...</td>\n",
       "      <td>apartment</td>\n",
       "      <td>1.0</td>\n",
       "      <td>NaN</td>\n",
       "      <td>NaN</td>\n",
       "      <td>NaN</td>\n",
       "      <td>NaN</td>\n",
       "    </tr>\n",
       "  </tbody>\n",
       "</table>\n",
       "<p>5 rows × 28 columns</p>\n",
       "</div>"
      ],
      "text/plain": [
       "       country_name  created_on currency description expenses extra  floor  \\\n",
       "74702           NaN  2013-08-12      USD         NaN      NaN   NaN   11.0   \n",
       "137024          NaN  2013-08-12      USD         NaN      NaN   NaN   11.0   \n",
       "207175          NaN  2013-08-12      USD         NaN      NaN   NaN   11.0   \n",
       "236474          NaN  2013-08-12      USD         NaN      NaN   NaN   11.0   \n",
       "267336          NaN  2013-08-12      USD         NaN      NaN   NaN   11.0   \n",
       "\n",
       "        geonames_id   id                                    image_thumbnail  \\\n",
       "74702     3433955.0  NaN  http://cf-thumbs.properati.com.ar/IutzRsfg9NDG...   \n",
       "137024    3433955.0  NaN  http://cf-thumbs.properati.com.ar/IutzRsfg9NDG...   \n",
       "207175    3433955.0  NaN  http://cf-thumbs.properati.com.ar/c7mTrSMGO5ke...   \n",
       "236474    3433955.0  NaN  http://cf-thumbs.properati.com.ar/CIuogg3sb46t...   \n",
       "267336    3433955.0  NaN  http://d1t4y5hzjn9jnl.cloudfront.net/siM2ypcMK...   \n",
       "\n",
       "        ...    price_aprox_usd price_per_m2  price_usd_per_m2  \\\n",
       "74702   ...           117900.0          NaN       1871.428571   \n",
       "137024  ...           117900.0          NaN       1871.428571   \n",
       "207175  ...           117900.0          NaN       1871.428571   \n",
       "236474  ...           117900.0          NaN       1871.428571   \n",
       "267336  ...           117900.0          NaN               NaN   \n",
       "\n",
       "                                            properati_url property_type rooms  \\\n",
       "74702   http://www.properati.com.ar/95fn_venta_departa...     apartment   1.0   \n",
       "137024  http://www.properati.com.ar/95fn_venta_departa...     apartment   1.0   \n",
       "207175  http://www.properati.com.ar/95fn_venta_departa...     apartment   1.0   \n",
       "236474  http://www.properati.com.ar/95fn_venta_departa...     apartment   1.0   \n",
       "267336  http://www.properati.com.ar/95fn_venta_departa...     apartment   1.0   \n",
       "\n",
       "        state_name  surface_covered_in_m2  surface_total_in_m2  title  \n",
       "74702          NaN                    NaN                 63.0    NaN  \n",
       "137024         NaN                    NaN                 63.0    NaN  \n",
       "207175         NaN                    NaN                 63.0    NaN  \n",
       "236474         NaN                    NaN                 63.0    NaN  \n",
       "267336         NaN                    NaN                  NaN    NaN  \n",
       "\n",
       "[5 rows x 28 columns]"
      ]
     },
     "execution_count": 38,
     "metadata": {},
     "output_type": "execute_result"
    }
   ],
   "source": [
    "b[b[\"properati_url\"] == \"http://www.properati.com.ar/95fn_venta_departamento_capital-federal\"].head(5)"
   ]
  },
  {
   "cell_type": "code",
   "execution_count": 39,
   "metadata": {},
   "outputs": [
    {
     "data": {
      "text/html": [
       "<div>\n",
       "<style>\n",
       "    .dataframe thead tr:only-child th {\n",
       "        text-align: right;\n",
       "    }\n",
       "\n",
       "    .dataframe thead th {\n",
       "        text-align: left;\n",
       "    }\n",
       "\n",
       "    .dataframe tbody tr th {\n",
       "        vertical-align: top;\n",
       "    }\n",
       "</style>\n",
       "<table border=\"1\" class=\"dataframe\">\n",
       "  <thead>\n",
       "    <tr style=\"text-align: right;\">\n",
       "      <th></th>\n",
       "      <th>country_name</th>\n",
       "      <th>created_on</th>\n",
       "      <th>currency</th>\n",
       "      <th>description</th>\n",
       "      <th>expenses</th>\n",
       "      <th>extra</th>\n",
       "      <th>floor</th>\n",
       "      <th>geonames_id</th>\n",
       "      <th>id</th>\n",
       "      <th>image_thumbnail</th>\n",
       "      <th>...</th>\n",
       "      <th>price_aprox_usd</th>\n",
       "      <th>price_per_m2</th>\n",
       "      <th>price_usd_per_m2</th>\n",
       "      <th>properati_url</th>\n",
       "      <th>property_type</th>\n",
       "      <th>rooms</th>\n",
       "      <th>state_name</th>\n",
       "      <th>surface_covered_in_m2</th>\n",
       "      <th>surface_total_in_m2</th>\n",
       "      <th>title</th>\n",
       "    </tr>\n",
       "  </thead>\n",
       "  <tbody>\n",
       "    <tr>\n",
       "      <th>69454</th>\n",
       "      <td>NaN</td>\n",
       "      <td>2013-06-14</td>\n",
       "      <td>USD</td>\n",
       "      <td>NaN</td>\n",
       "      <td>NaN</td>\n",
       "      <td>NaN</td>\n",
       "      <td>NaN</td>\n",
       "      <td>3430310.0</td>\n",
       "      <td>NaN</td>\n",
       "      <td>http://cf-thumbs.properati.com.ar/OG0XIZ_02IJD...</td>\n",
       "      <td>...</td>\n",
       "      <td>192000.0</td>\n",
       "      <td>NaN</td>\n",
       "      <td>4085.106383</td>\n",
       "      <td>http://www.properati.com.ar/7v2b_venta_departa...</td>\n",
       "      <td>apartment</td>\n",
       "      <td>2.0</td>\n",
       "      <td>NaN</td>\n",
       "      <td>NaN</td>\n",
       "      <td>47.0</td>\n",
       "      <td>NaN</td>\n",
       "    </tr>\n",
       "    <tr>\n",
       "      <th>130136</th>\n",
       "      <td>NaN</td>\n",
       "      <td>2013-06-14</td>\n",
       "      <td>USD</td>\n",
       "      <td>NaN</td>\n",
       "      <td>NaN</td>\n",
       "      <td>NaN</td>\n",
       "      <td>NaN</td>\n",
       "      <td>3430310.0</td>\n",
       "      <td>NaN</td>\n",
       "      <td>http://cf-thumbs.properati.com.ar/OG0XIZ_02IJD...</td>\n",
       "      <td>...</td>\n",
       "      <td>192000.0</td>\n",
       "      <td>NaN</td>\n",
       "      <td>4085.106383</td>\n",
       "      <td>http://www.properati.com.ar/7v2b_venta_departa...</td>\n",
       "      <td>apartment</td>\n",
       "      <td>2.0</td>\n",
       "      <td>NaN</td>\n",
       "      <td>NaN</td>\n",
       "      <td>47.0</td>\n",
       "      <td>NaN</td>\n",
       "    </tr>\n",
       "    <tr>\n",
       "      <th>195104</th>\n",
       "      <td>NaN</td>\n",
       "      <td>2013-06-14</td>\n",
       "      <td>USD</td>\n",
       "      <td>NaN</td>\n",
       "      <td>NaN</td>\n",
       "      <td>NaN</td>\n",
       "      <td>NaN</td>\n",
       "      <td>3430310.0</td>\n",
       "      <td>NaN</td>\n",
       "      <td>http://cf-thumbs.properati.com.ar/tvdlAIu9J6BP...</td>\n",
       "      <td>...</td>\n",
       "      <td>185000.0</td>\n",
       "      <td>NaN</td>\n",
       "      <td>3936.170213</td>\n",
       "      <td>http://www.properati.com.ar/7v2b_venta_departa...</td>\n",
       "      <td>apartment</td>\n",
       "      <td>2.0</td>\n",
       "      <td>NaN</td>\n",
       "      <td>NaN</td>\n",
       "      <td>47.0</td>\n",
       "      <td>NaN</td>\n",
       "    </tr>\n",
       "    <tr>\n",
       "      <th>227790</th>\n",
       "      <td>NaN</td>\n",
       "      <td>2013-06-14</td>\n",
       "      <td>USD</td>\n",
       "      <td>NaN</td>\n",
       "      <td>NaN</td>\n",
       "      <td>NaN</td>\n",
       "      <td>NaN</td>\n",
       "      <td>3430310.0</td>\n",
       "      <td>NaN</td>\n",
       "      <td>http://cf-thumbs.properati.com.ar/llZM66nzNfOV...</td>\n",
       "      <td>...</td>\n",
       "      <td>192000.0</td>\n",
       "      <td>NaN</td>\n",
       "      <td>4085.106383</td>\n",
       "      <td>http://www.properati.com.ar/7v2b_venta_departa...</td>\n",
       "      <td>apartment</td>\n",
       "      <td>2.0</td>\n",
       "      <td>NaN</td>\n",
       "      <td>NaN</td>\n",
       "      <td>47.0</td>\n",
       "      <td>NaN</td>\n",
       "    </tr>\n",
       "    <tr>\n",
       "      <th>265791</th>\n",
       "      <td>NaN</td>\n",
       "      <td>2013-06-14</td>\n",
       "      <td>USD</td>\n",
       "      <td>NaN</td>\n",
       "      <td>NaN</td>\n",
       "      <td>NaN</td>\n",
       "      <td>6.0</td>\n",
       "      <td>3430310.0</td>\n",
       "      <td>NaN</td>\n",
       "      <td>http://d1t4y5hzjn9jnl.cloudfront.net/0AdijljJB...</td>\n",
       "      <td>...</td>\n",
       "      <td>195000.0</td>\n",
       "      <td>NaN</td>\n",
       "      <td>NaN</td>\n",
       "      <td>http://www.properati.com.ar/7v2b_venta_departa...</td>\n",
       "      <td>apartment</td>\n",
       "      <td>2.0</td>\n",
       "      <td>NaN</td>\n",
       "      <td>NaN</td>\n",
       "      <td>NaN</td>\n",
       "      <td>NaN</td>\n",
       "    </tr>\n",
       "  </tbody>\n",
       "</table>\n",
       "<p>5 rows × 28 columns</p>\n",
       "</div>"
      ],
      "text/plain": [
       "       country_name  created_on currency description expenses extra  floor  \\\n",
       "69454           NaN  2013-06-14      USD         NaN      NaN   NaN    NaN   \n",
       "130136          NaN  2013-06-14      USD         NaN      NaN   NaN    NaN   \n",
       "195104          NaN  2013-06-14      USD         NaN      NaN   NaN    NaN   \n",
       "227790          NaN  2013-06-14      USD         NaN      NaN   NaN    NaN   \n",
       "265791          NaN  2013-06-14      USD         NaN      NaN   NaN    6.0   \n",
       "\n",
       "        geonames_id   id                                    image_thumbnail  \\\n",
       "69454     3430310.0  NaN  http://cf-thumbs.properati.com.ar/OG0XIZ_02IJD...   \n",
       "130136    3430310.0  NaN  http://cf-thumbs.properati.com.ar/OG0XIZ_02IJD...   \n",
       "195104    3430310.0  NaN  http://cf-thumbs.properati.com.ar/tvdlAIu9J6BP...   \n",
       "227790    3430310.0  NaN  http://cf-thumbs.properati.com.ar/llZM66nzNfOV...   \n",
       "265791    3430310.0  NaN  http://d1t4y5hzjn9jnl.cloudfront.net/0AdijljJB...   \n",
       "\n",
       "        ...    price_aprox_usd price_per_m2  price_usd_per_m2  \\\n",
       "69454   ...           192000.0          NaN       4085.106383   \n",
       "130136  ...           192000.0          NaN       4085.106383   \n",
       "195104  ...           185000.0          NaN       3936.170213   \n",
       "227790  ...           192000.0          NaN       4085.106383   \n",
       "265791  ...           195000.0          NaN               NaN   \n",
       "\n",
       "                                            properati_url property_type rooms  \\\n",
       "69454   http://www.properati.com.ar/7v2b_venta_departa...     apartment   2.0   \n",
       "130136  http://www.properati.com.ar/7v2b_venta_departa...     apartment   2.0   \n",
       "195104  http://www.properati.com.ar/7v2b_venta_departa...     apartment   2.0   \n",
       "227790  http://www.properati.com.ar/7v2b_venta_departa...     apartment   2.0   \n",
       "265791  http://www.properati.com.ar/7v2b_venta_departa...     apartment   2.0   \n",
       "\n",
       "        state_name  surface_covered_in_m2  surface_total_in_m2  title  \n",
       "69454          NaN                    NaN                 47.0    NaN  \n",
       "130136         NaN                    NaN                 47.0    NaN  \n",
       "195104         NaN                    NaN                 47.0    NaN  \n",
       "227790         NaN                    NaN                 47.0    NaN  \n",
       "265791         NaN                    NaN                  NaN    NaN  \n",
       "\n",
       "[5 rows x 28 columns]"
      ]
     },
     "execution_count": 39,
     "metadata": {},
     "output_type": "execute_result"
    }
   ],
   "source": [
    "b[b[\"properati_url\"] == \"http://www.properati.com.ar/7v2b_venta_departamento_olivos_avenida-del-libertador-gral-san-martin_2300\"].head(5)"
   ]
  },
  {
   "cell_type": "markdown",
   "metadata": {},
   "source": [
    "# Observo que hay publicaciones con misma URL y que parecen ser las mismas propiedades, pero el inconveniente es que los campos vacios de cada uno de estos registros varia, debo filtrar de una forma mas compleja"
   ]
  },
  {
   "cell_type": "markdown",
   "metadata": {},
   "source": [
    "# Antes de hacer esto voy a eliminar columnas que no interesan"
   ]
  },
  {
   "cell_type": "code",
   "execution_count": 40,
   "metadata": {},
   "outputs": [
    {
     "data": {
      "text/plain": [
       "0"
      ]
     },
     "execution_count": 40,
     "metadata": {},
     "output_type": "execute_result"
    }
   ],
   "source": [
    "len(b[~b[\"lat\"].isnull() & ~b[\"lon\"].isnull() & b[\"lat-lon\"].isnull()])"
   ]
  },
  {
   "cell_type": "code",
   "execution_count": 41,
   "metadata": {
    "collapsed": true
   },
   "outputs": [],
   "source": [
    "#Puedo eliminar latitud y longitud, ya que lat-lon tiene su informacion\n",
    "#tambien, country_name, image_thumbnail, operation, price, price aprox local curr, currency\n",
    "#ya que solo trabajaremos con precios en dolares\n"
   ]
  },
  {
   "cell_type": "code",
   "execution_count": 42,
   "metadata": {},
   "outputs": [
    {
     "data": {
      "text/plain": [
       "Index([u'country_name', u'created_on', u'currency', u'description',\n",
       "       u'expenses', u'extra', u'floor', u'geonames_id', u'id',\n",
       "       u'image_thumbnail', u'lat', u'lat-lon', u'lon', u'operation',\n",
       "       u'place_name', u'place_with_parent_names', u'price',\n",
       "       u'price_aprox_local_currency', u'price_aprox_usd', u'price_per_m2',\n",
       "       u'price_usd_per_m2', u'properati_url', u'property_type', u'rooms',\n",
       "       u'state_name', u'surface_covered_in_m2', u'surface_total_in_m2',\n",
       "       u'title'],\n",
       "      dtype='object')"
      ]
     },
     "execution_count": 42,
     "metadata": {},
     "output_type": "execute_result"
    }
   ],
   "source": [
    "b.columns"
   ]
  },
  {
   "cell_type": "code",
   "execution_count": 43,
   "metadata": {
    "collapsed": true
   },
   "outputs": [],
   "source": [
    "data = b.drop([\"country_name\",\"lat\",\"lon\",\"country_name\",\"image_thumbnail\",\\\n",
    "               \"operation\",\"price\",'price_per_m2',\"price_aprox_local_currency\",\"currency\"],axis=1)"
   ]
  },
  {
   "cell_type": "code",
   "execution_count": 44,
   "metadata": {
    "collapsed": true
   },
   "outputs": [],
   "source": [
    "#Elimino registros con misma url de properati, mismo precio y misma cantidad de habitaciones y piso si son casas\n",
    "casas = data[data[\"property_type\"] == \"house\"]\n"
   ]
  },
  {
   "cell_type": "code",
   "execution_count": 45,
   "metadata": {},
   "outputs": [
    {
     "data": {
      "text/plain": [
       "390251"
      ]
     },
     "execution_count": 45,
     "metadata": {},
     "output_type": "execute_result"
    }
   ],
   "source": [
    "len(casas)"
   ]
  },
  {
   "cell_type": "code",
   "execution_count": 46,
   "metadata": {
    "collapsed": true
   },
   "outputs": [],
   "source": [
    "casas_duplicadas = casas[casas.duplicated(subset = [\"properati_url\",\"price_aprox_usd\",\"price_usd_per_m2\",\"rooms\",\"floor\"])]"
   ]
  },
  {
   "cell_type": "code",
   "execution_count": 47,
   "metadata": {},
   "outputs": [
    {
     "data": {
      "text/plain": [
       "218206"
      ]
     },
     "execution_count": 47,
     "metadata": {},
     "output_type": "execute_result"
    }
   ],
   "source": [
    "len(casas_duplicadas)"
   ]
  },
  {
   "cell_type": "code",
   "execution_count": 48,
   "metadata": {
    "collapsed": true
   },
   "outputs": [],
   "source": [
    "casas_unicas = casas.drop_duplicates(subset = [\"properati_url\",\"price_aprox_usd\",\"price_usd_per_m2\",\"rooms\",\"floor\"])"
   ]
  },
  {
   "cell_type": "code",
   "execution_count": 49,
   "metadata": {
    "collapsed": true
   },
   "outputs": [],
   "source": [
    "resto_propiedades = data[data[\"property_type\"] != \"house\"]"
   ]
  },
  {
   "cell_type": "code",
   "execution_count": 50,
   "metadata": {},
   "outputs": [
    {
     "name": "stdout",
     "output_type": "stream",
     "text": [
      "987281\n"
     ]
    }
   ],
   "source": [
    "print len(casas_unicas)+len(resto_propiedades)"
   ]
  },
  {
   "cell_type": "code",
   "execution_count": 51,
   "metadata": {
    "collapsed": true
   },
   "outputs": [],
   "source": [
    "data_juntada = pd.concat([resto_propiedades,casas_unicas])"
   ]
  },
  {
   "cell_type": "code",
   "execution_count": 52,
   "metadata": {},
   "outputs": [
    {
     "data": {
      "text/plain": [
       "987281"
      ]
     },
     "execution_count": 52,
     "metadata": {},
     "output_type": "execute_result"
    }
   ],
   "source": [
    "len(data_juntada)"
   ]
  },
  {
   "cell_type": "code",
   "execution_count": 53,
   "metadata": {
    "collapsed": true
   },
   "outputs": [],
   "source": [
    "stores = data_juntada[data_juntada[\"property_type\"] == \"store\"]"
   ]
  },
  {
   "cell_type": "code",
   "execution_count": 54,
   "metadata": {
    "collapsed": true
   },
   "outputs": [],
   "source": [
    "stores_duplicadas = stores[stores.duplicated(subset=[\"properati_url\",\"price_aprox_usd\",\"price_usd_per_m2\",\"rooms\",\"floor\"])]"
   ]
  },
  {
   "cell_type": "code",
   "execution_count": 55,
   "metadata": {},
   "outputs": [
    {
     "name": "stdout",
     "output_type": "stream",
     "text": [
      "19748\n"
     ]
    }
   ],
   "source": [
    "print len(stores)"
   ]
  },
  {
   "cell_type": "code",
   "execution_count": 56,
   "metadata": {},
   "outputs": [
    {
     "data": {
      "text/plain": [
       "8900"
      ]
     },
     "execution_count": 56,
     "metadata": {},
     "output_type": "execute_result"
    }
   ],
   "source": [
    "len(stores_duplicadas)"
   ]
  },
  {
   "cell_type": "code",
   "execution_count": 57,
   "metadata": {},
   "outputs": [
    {
     "data": {
      "text/plain": [
       "http://www.properati.com.ar/dya4_venta_local_capital-federal                       8\n",
       "http://www.properati.com.ar/e3q3_venta_local_san-martin                            8\n",
       "http://www.properati.com.ar/g62v_venta_local_wilde                                 8\n",
       "http://www.properati.com.ar/i6d3_venta_local_lanus-este_avenida-9-de-julio_1300    8\n",
       "http://www.properati.com.ar/hvs7_venta_local_general-rodriguez                     8\n",
       "Name: properati_url, dtype: int64"
      ]
     },
     "execution_count": 57,
     "metadata": {},
     "output_type": "execute_result"
    }
   ],
   "source": [
    "stores_duplicadas[\"properati_url\"].value_counts().head(5)"
   ]
  },
  {
   "cell_type": "code",
   "execution_count": 58,
   "metadata": {
    "collapsed": true
   },
   "outputs": [],
   "source": [
    "stores_unicos = stores.drop_duplicates(subset=[\"properati_url\",\"price_aprox_usd\",\"price_usd_per_m2\",\"rooms\",\"floor\"])"
   ]
  },
  {
   "cell_type": "code",
   "execution_count": 59,
   "metadata": {},
   "outputs": [
    {
     "data": {
      "text/plain": [
       "10848"
      ]
     },
     "execution_count": 59,
     "metadata": {},
     "output_type": "execute_result"
    }
   ],
   "source": [
    "len(stores_unicos)"
   ]
  },
  {
   "cell_type": "code",
   "execution_count": 60,
   "metadata": {
    "collapsed": true
   },
   "outputs": [],
   "source": [
    "resto_props = data_juntada[data_juntada[\"property_type\"] != \"store\"]"
   ]
  },
  {
   "cell_type": "code",
   "execution_count": 61,
   "metadata": {
    "collapsed": true
   },
   "outputs": [],
   "source": [
    "data = pd.concat([resto_props,stores_unicos])"
   ]
  },
  {
   "cell_type": "code",
   "execution_count": 63,
   "metadata": {
    "collapsed": true
   },
   "outputs": [],
   "source": [
    "sin_publicaciones_duplicadas = data[(~data.duplicated()) | (data['properati_url'].isnull())]\n"
   ]
  },
  {
   "cell_type": "code",
   "execution_count": 64,
   "metadata": {},
   "outputs": [
    {
     "data": {
      "text/plain": [
       "686484"
      ]
     },
     "execution_count": 64,
     "metadata": {},
     "output_type": "execute_result"
    }
   ],
   "source": [
    "len(sin_publicaciones_duplicadas)"
   ]
  },
  {
   "cell_type": "code",
   "execution_count": 65,
   "metadata": {
    "collapsed": true
   },
   "outputs": [],
   "source": [
    "sin_publicaciones_duplicadas.to_csv(\"datosCabaYGBA.csv\")"
   ]
  }
 ],
 "metadata": {
  "kernelspec": {
   "display_name": "Python 2",
   "language": "python",
   "name": "python2"
  },
  "language_info": {
   "codemirror_mode": {
    "name": "ipython",
    "version": 2
   },
   "file_extension": ".py",
   "mimetype": "text/x-python",
   "name": "python",
   "nbconvert_exporter": "python",
   "pygments_lexer": "ipython2",
   "version": "2.7.13"
  }
 },
 "nbformat": 4,
 "nbformat_minor": 2
}
