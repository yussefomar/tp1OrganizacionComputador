{
 "cells": [
  {
   "cell_type": "markdown",
   "metadata": {},
   "source": [
    "# Usar el archivo de salida del primer filtrado. \n",
    "## Lo continuo en esta segunda parte porque ya no aguantaba el kernel, moria"
   ]
  },
  {
   "cell_type": "code",
   "execution_count": 1,
   "metadata": {
    "collapsed": true
   },
   "outputs": [],
   "source": [
    "import pandas as pd"
   ]
  },
  {
   "cell_type": "code",
   "execution_count": 2,
   "metadata": {},
   "outputs": [],
   "source": [
    "from utils_recuperacion_datos import recuperar_barrios_capital,barrios_capital,geolocator"
   ]
  },
  {
   "cell_type": "code",
   "execution_count": 3,
   "metadata": {
    "collapsed": true
   },
   "outputs": [],
   "source": [
    "data = pd.read_csv(\"datosCabaYGBA.csv\", low_memory = False)"
   ]
  },
  {
   "cell_type": "markdown",
   "metadata": {},
   "source": [
    "# Vamos a recuperar los barrios que estan mal catalogados como 'Capital Federal'"
   ]
  },
  {
   "cell_type": "code",
   "execution_count": 4,
   "metadata": {
    "scrolled": true
   },
   "outputs": [
    {
     "data": {
      "text/plain": [
       "Capital Federal    40647\n",
       "Tigre              29404\n",
       "Pilar              25204\n",
       "Belgrano           24689\n",
       "Nordelta           24060\n",
       "Name: place_name, dtype: int64"
      ]
     },
     "execution_count": 4,
     "metadata": {},
     "output_type": "execute_result"
    }
   ],
   "source": [
    "data[\"place_name\"].value_counts().head(5)"
   ]
  },
  {
   "cell_type": "code",
   "execution_count": 5,
   "metadata": {
    "collapsed": true
   },
   "outputs": [],
   "source": [
    "datosCabaIncorrectos = data[data[\"place_name\"] == \"Capital Federal\"]"
   ]
  },
  {
   "cell_type": "code",
   "execution_count": 6,
   "metadata": {
    "collapsed": true
   },
   "outputs": [],
   "source": [
    "datosCorrectos = data[data[\"place_name\"] != \"Capital Federal\"] "
   ]
  },
  {
   "cell_type": "code",
   "execution_count": 35,
   "metadata": {},
   "outputs": [
    {
     "data": {
      "text/plain": [
       "40647"
      ]
     },
     "execution_count": 35,
     "metadata": {},
     "output_type": "execute_result"
    }
   ],
   "source": [
    "len(datosCabaIncorrectos)"
   ]
  },
  {
   "cell_type": "code",
   "execution_count": 8,
   "metadata": {
    "collapsed": true
   },
   "outputs": [],
   "source": [
    "posiciones_a_corregir = datosCabaIncorrectos[\"lat-lon\"].value_counts()"
   ]
  },
  {
   "cell_type": "code",
   "execution_count": 9,
   "metadata": {
    "collapsed": true
   },
   "outputs": [],
   "source": [
    "posiciones_a_corregir = posiciones_a_corregir.index"
   ]
  },
  {
   "cell_type": "code",
   "execution_count": 10,
   "metadata": {},
   "outputs": [
    {
     "data": {
      "text/plain": [
       "13415"
      ]
     },
     "execution_count": 10,
     "metadata": {},
     "output_type": "execute_result"
    }
   ],
   "source": [
    "len(posiciones_a_corregir)"
   ]
  },
  {
   "cell_type": "code",
   "execution_count": null,
   "metadata": {},
   "outputs": [],
   "source": [
    "posiciones_corregidas = recuperar_barrios_capital(posiciones_a_corregir)"
   ]
  },
  {
   "cell_type": "code",
   "execution_count": 30,
   "metadata": {},
   "outputs": [],
   "source": [
    "def corregir_place_name(latlon):\n",
    "    if pd.notnull(latlon):\n",
    "        if latlon in posiciones_corregidas:\n",
    "            return posiciones_corregidas[latlon]\n",
    "    return \"Capital Federal\""
   ]
  },
  {
   "cell_type": "code",
   "execution_count": 32,
   "metadata": {},
   "outputs": [
    {
     "name": "stderr",
     "output_type": "stream",
     "text": [
      "/home/tomas/anaconda2/lib/python2.7/site-packages/ipykernel_launcher.py:1: SettingWithCopyWarning: \n",
      "A value is trying to be set on a copy of a slice from a DataFrame.\n",
      "Try using .loc[row_indexer,col_indexer] = value instead\n",
      "\n",
      "See the caveats in the documentation: http://pandas.pydata.org/pandas-docs/stable/indexing.html#indexing-view-versus-copy\n",
      "  \"\"\"Entry point for launching an IPython kernel.\n"
     ]
    }
   ],
   "source": [
    "datosCabaIncorrectos[\"place_name\"] = datosCabaIncorrectos.apply(lambda row: corregir_place_name(row[\"lat-lon\"]),axis=1)"
   ]
  },
  {
   "cell_type": "code",
   "execution_count": 33,
   "metadata": {},
   "outputs": [
    {
     "data": {
      "text/plain": [
       "Capital Federal         8756\n",
       " Palermo                3462\n",
       " Belgrano               2033\n",
       " Villa Urquiza          1915\n",
       " Caballito              1879\n",
       " Núñez                  1592\n",
       " Saavedra               1511\n",
       " Balvanera              1347\n",
       " Recoleta               1210\n",
       " Almagro                1197\n",
       " Flores                 1164\n",
       " San Nicolás            1140\n",
       " Villa Crespo           1064\n",
       " Colegiales              900\n",
       " Villa Ortúzar           895\n",
       " Constitución            869\n",
       " Coghlan                 730\n",
       " Villa Pueyrredón        657\n",
       " Monserrat               629\n",
       " San Cristóbal           607\n",
       " Villa del Parque        567\n",
       " Boedo                   556\n",
       " La Boca                 541\n",
       " Villa Devoto            523\n",
       " Parque Chas             501\n",
       " Villa General Mitre     396\n",
       " Villa Santa Rita        381\n",
       " Retiro                  360\n",
       " Parque Chacabuco        287\n",
       " Floresta                278\n",
       " Chacarita               267\n",
       " Parque Avellaneda       253\n",
       " Villa Luro              239\n",
       " Monte Castro            239\n",
       " San Telmo               206\n",
       " La Paternal             198\n",
       " Puerto Madero           165\n",
       " Villa Lugano            145\n",
       " Barracas                141\n",
       " Liniers                 139\n",
       " Villa Soldati           128\n",
       " Versalles               114\n",
       " Agronomía               110\n",
       " Nueva Pompeya            98\n",
       " Mataderos                96\n",
       " Villa Real               77\n",
       " Parque Patricios         75\n",
       " Villa Riachuelo          10\n",
       "Name: place_name, dtype: int64"
      ]
     },
     "execution_count": 33,
     "metadata": {},
     "output_type": "execute_result"
    }
   ],
   "source": [
    "datosCabaIncorrectos[\"place_name\"].value_counts()"
   ]
  },
  {
   "cell_type": "markdown",
   "metadata": {
    "collapsed": true
   },
   "source": [
    "# De 40647 registros con barrio incorrecto se recuperaron 31891"
   ]
  },
  {
   "cell_type": "code",
   "execution_count": 38,
   "metadata": {
    "collapsed": true
   },
   "outputs": [],
   "source": [
    "datos_corregidos_caba = datosCabaIncorrectos[datosCabaIncorrectos[\"place_name\"] != \"Capital Federal\"]"
   ]
  },
  {
   "cell_type": "code",
   "execution_count": 39,
   "metadata": {},
   "outputs": [
    {
     "data": {
      "text/plain": [
       "31891"
      ]
     },
     "execution_count": 39,
     "metadata": {},
     "output_type": "execute_result"
    }
   ],
   "source": [
    "len(datos_corregidos_caba)"
   ]
  },
  {
   "cell_type": "code",
   "execution_count": 41,
   "metadata": {},
   "outputs": [],
   "source": [
    "datos_finales = pd.concat([datosCorrectos,datos_corregidos_caba])"
   ]
  },
  {
   "cell_type": "code",
   "execution_count": 45,
   "metadata": {},
   "outputs": [],
   "source": [
    "datos_finales.to_csv(\"datosCabaYGBA.csv\",header=True, index=False, encoding='utf-8')"
   ]
  },
  {
   "cell_type": "code",
   "execution_count": null,
   "metadata": {
    "collapsed": true
   },
   "outputs": [],
   "source": []
  }
 ],
 "metadata": {
  "kernelspec": {
   "display_name": "Python 2",
   "language": "python",
   "name": "python2"
  },
  "language_info": {
   "codemirror_mode": {
    "name": "ipython",
    "version": 2
   },
   "file_extension": ".py",
   "mimetype": "text/x-python",
   "name": "python",
   "nbconvert_exporter": "python",
   "pygments_lexer": "ipython2",
   "version": "2.7.13"
  }
 },
 "nbformat": 4,
 "nbformat_minor": 2
}
